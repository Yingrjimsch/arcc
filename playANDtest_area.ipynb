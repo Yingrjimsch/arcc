{
 "cells": [
  {
   "cell_type": "markdown",
   "id": "e80658a5",
   "metadata": {},
   "source": [
    "# ARC CHALLENGE PLAYGROUND AND TESTING AREA"
   ]
  },
  {
   "cell_type": "code",
   "execution_count": 45,
   "id": "a1ecd279",
   "metadata": {},
   "outputs": [
    {
     "name": "stdout",
     "output_type": "stream",
     "text": [
      "In out {'input': [[8, 6], [6, 4]], 'output': [[8, 6, 8, 6, 8, 6], [6, 4, 6, 4, 6, 4], [6, 8, 6, 8, 6, 8], [4, 6, 4, 6, 4, 6], [8, 6, 8, 6, 8, 6], [6, 4, 6, 4, 6, 4]]}\n",
      "In out {'input': [[7, 9], [4, 3]], 'output': [[7, 9, 7, 9, 7, 9], [4, 3, 4, 3, 4, 3], [9, 7, 9, 7, 9, 7], [3, 4, 3, 4, 3, 4], [7, 9, 7, 9, 7, 9], [4, 3, 4, 3, 4, 3]]}\n",
      "In out {'input': [[3, 2], [7, 8]], 'output': [[3, 2, 3, 2, 3, 2], [7, 8, 7, 8, 7, 8], [2, 3, 2, 3, 2, 3], [8, 7, 8, 7, 8, 7], [3, 2, 3, 2, 3, 2], [7, 8, 7, 8, 7, 8]]}\n"
     ]
    }
   ],
   "source": [
    "import os\n",
    "import json\n",
    "import numpy as np\n",
    "\n",
    "TRAINING_DATA_FOLDER_NAME = 'arcdata/evaluation';\n",
    "fileNames = os.listdir(TRAINING_DATA_FOLDER_NAME);\n",
    "\n",
    "def evaluate_effectiveness_of_function():\n",
    "    with open(f'{TRAINING_DATA_FOLDER_NAME}/{fileNames[0]}', 'r') as file:\n",
    "        data = json.loads(file.read())\n",
    "        for i in data['train']:\n",
    "            print('In out', i)\n",
    "        for i in data['test']:\n",
    "            print('In out', i)\n",
    "evaluate_effectiveness_of_function()\n"
   ]
  },
  {
   "cell_type": "code",
   "execution_count": 17,
   "id": "a7a87ca6",
   "metadata": {},
   "outputs": [
    {
     "name": "stdout",
     "output_type": "stream",
     "text": [
      "[[13  9  5  1]\n",
      " [14 10  6  2]\n",
      " [15 11  7  3]\n",
      " [16 12  8  4]]\n",
      "None\n",
      "[[13  9  5  1]\n",
      " [14 10  6  2]\n",
      " [15 11  7  3]\n",
      " [16 12  8  4]]\n",
      "[[5 1]\n",
      " [6 2]\n",
      " [7 3]\n",
      " [8 4]]\n"
     ]
    }
   ],
   "source": [
    "import numpy as np\n",
    "\"\"\"\n",
    "Rotate a matrix (square or rectangle) clockwise\n",
    "with two tests\n",
    "\"\"\"\n",
    "def rotate_clockwise(matrix):\n",
    "    return np.array(list(zip(*(reversed(matrix)))))\n",
    "\n",
    "matrix_square = [[1,2,3,4],\n",
    "                 [5,6,7,8],\n",
    "                 [9,10,11,12],\n",
    "                 [13,14,15,16]]\n",
    "matrix_rectangle = [[1,2,3,4],\n",
    "                    [5,6,7,8]]\n",
    "print(rotate_clockwise(matrix_square))\n",
    "print(rotate_clockwise(matrix_rectangle))"
   ]
  },
  {
   "cell_type": "code",
   "execution_count": 7,
   "id": "4044708a",
   "metadata": {},
   "outputs": [
    {
     "name": "stdout",
     "output_type": "stream",
     "text": [
      "[[ 4  8 12 16]\n",
      " [ 3  7 11 15]\n",
      " [ 2  6 10 14]\n",
      " [ 1  5  9 13]]\n",
      "[[4 8]\n",
      " [3 7]\n",
      " [2 6]\n",
      " [1 5]]\n"
     ]
    }
   ],
   "source": [
    "import numpy as np\n",
    "\"\"\"\n",
    "Rotate a matrix (square or rectangle) anticlockwise\n",
    "with two tests\n",
    "\"\"\"\n",
    "def rotate_anticlockwise(matrix):\n",
    "    return np.array(list(zip(*matrix))[::-1])\n",
    "\n",
    "matrix_square = [[1,2,3,4],\n",
    "                 [5,6,7,8],\n",
    "                 [9,10,11,12],\n",
    "                 [13,14,15,16]]\n",
    "matrix_rectangle = [[1,2,3,4],\n",
    "                    [5,6,7,8]]\n",
    "print(rotate_anticlockwise(matrix_square))\n",
    "print(rotate_anticlockwise(matrix_rectangle))"
   ]
  },
  {
   "cell_type": "code",
   "execution_count": 9,
   "id": "496c0de5",
   "metadata": {},
   "outputs": [
    {
     "name": "stdout",
     "output_type": "stream",
     "text": [
      "[[13 14 15 16]\n",
      " [ 9 10 11 12]\n",
      " [ 5  6  7  8]\n",
      " [ 1  2  3  4]]\n",
      "[[5 6 7 8]\n",
      " [1 2 3 4]]\n"
     ]
    }
   ],
   "source": [
    "import numpy as np\n",
    "\"\"\"\n",
    "reverse a matrix (square or rectangle)\n",
    "with two tests\n",
    "\"\"\"\n",
    "def reverse(matrix):\n",
    "    return np.array(list(reversed(matrix)))\n",
    "\n",
    "matrix_square = [[1,2,3,4],\n",
    "                 [5,6,7,8],\n",
    "                 [9,10,11,12],\n",
    "                 [13,14,15,16]]\n",
    "matrix_rectangle = [[1,2,3,4],\n",
    "                    [5,6,7,8]]\n",
    "print(reverse(matrix_square))\n",
    "print(reverse(matrix_rectangle))"
   ]
  },
  {
   "cell_type": "code",
   "execution_count": null,
   "id": "a81a5081",
   "metadata": {},
   "outputs": [
    {
     "name": "stdout",
     "output_type": "stream",
     "text": [
      "[[10 10 10 10 10 10]\n",
      " [10  1  2  3  4 10]\n",
      " [10  5  6  7  8 10]\n",
      " [10  9 10 11 12 10]\n",
      " [10 13 14 15 16 10]\n",
      " [10 10 10 10 10 10]]\n",
      "[[10 10 10 10 10 10]\n",
      " [10  1  2  3  4 10]\n",
      " [10  5  6  7  8 10]\n",
      " [10 10 10 10 10 10]]\n"
     ]
    }
   ],
   "source": [
    "import numpy as np\n",
    "\n",
    "def add_border(matrix):\n",
    "    return np.pad(matrix,1,mode='constant',constant_values=10)\n",
    "\n",
    "matrix_square = [[1,2,3,4],\n",
    "                 [5,6,7,8],\n",
    "                 [9,10,11,12],\n",
    "                 [13,14,15,16]]\n",
    "matrix_rectangle = [[1,2,3,4],\n",
    "                    [5,6,7,8]]\n",
    "\n",
    "m1 = add_border(matrix_square)\n",
    "m2 = add_border(matrix_rectangle)\n",
    "print(m1)\n",
    "print(m2)"
   ]
  },
  {
   "cell_type": "code",
   "execution_count": 2,
   "id": "e3103de5",
   "metadata": {},
   "outputs": [
    {
     "name": "stdout",
     "output_type": "stream",
     "text": [
      "True\n",
      "False\n"
     ]
    }
   ],
   "source": [
    "import numpy as np\n",
    "\n",
    "def equal_matrix_dimensions(matrix_one, matrix_two):\n",
    "    \"\"\"\n",
    "    Checks if dimensions of input matrix and output matrix are equal\n",
    "    :param array_one:\n",
    "    :param array_two:\n",
    "    :return: boolean\n",
    "    \"\"\"\n",
    "\n",
    "    matrix_one_new = np.asarray(matrix_one)\n",
    "    matrix_two_new = np.asarray(matrix_two)\n",
    "    return matrix_one_new.shape == matrix_two_new.shape\n",
    "\n",
    "matrix_one = np.array([[1, 2, 3], [4, 5, 6], [7, 8, 9]])\n",
    "matrix_two = np.array([[7, 8, 9], [10, 11, 12], [13, 14, 15]])\n",
    "matrix_three = [[1,2,3,4],[5,6,7,8]]\n",
    "\n",
    "print(equal_matrix_dimensions(matrix_one, matrix_two))\n",
    "print(equal_matrix_dimensions(matrix_one, matrix_three))"
   ]
  },
  {
   "cell_type": "code",
   "execution_count": 1,
   "id": "49a87135",
   "metadata": {},
   "outputs": [
    {
     "name": "stdout",
     "output_type": "stream",
     "text": [
      "[[13. 14. 15.]\n",
      " [ 1.  2.  3.]\n",
      " [ 5.  6.  7.]]\n",
      "[[ 5.  6.  7.]\n",
      " [ 9. 10. 11.]\n",
      " [13. 14. 15.]]\n",
      "[[5. 6. 7.]\n",
      " [1. 2. 3.]\n",
      " [5. 6. 7.]]\n"
     ]
    }
   ],
   "source": [
    "import numpy as np\n",
    "\n",
    "def get_pixel_neighbours(matrix, pixel):\n",
    "    neighbours = np.zeros((3,3))\n",
    "    for i in range(3):\n",
    "        for j in range(3):\n",
    "            neighbours[i, j] = matrix[pixel[0]-1+i, pixel[1]-1+j]\n",
    "    return neighbours\n",
    "\n",
    "matrix_square = np.array([[1,2,3,4],\n",
    "                          [5,6,7,8],\n",
    "                          [9,10,11,12],\n",
    "                          [13,14,15,16]])\n",
    "matrix_rectangle = np.array([[1,2,3,4],\n",
    "                             [5,6,7,8]])\n",
    "\n",
    "print(get_pixel_neighbours(matrix_square,[0,1]))\n",
    "print(get_pixel_neighbours(matrix_square,[2,1]))\n",
    "print(get_pixel_neighbours(matrix_rectangle,[0,1]))"
   ]
  },
  {
   "cell_type": "code",
   "execution_count": 4,
   "id": "47a57445",
   "metadata": {},
   "outputs": [
    {
     "name": "stdout",
     "output_type": "stream",
     "text": [
      "before\n",
      " [[0 0 0 0 1]\n",
      " [0 0 0 0 0]\n",
      " [0 0 0 0 0]\n",
      " [0 0 0 0 0]\n",
      " [1 0 0 0 0]]\n",
      "after\n",
      " [[0 0 0 0 1]\n",
      " [0 0 0 1 0]\n",
      " [0 0 1 0 0]\n",
      " [0 1 0 0 0]\n",
      " [1 0 0 0 0]]\n",
      "before\n",
      " [[0 0 0 0 0]\n",
      " [0 1 0 0 0]\n",
      " [0 0 0 0 0]\n",
      " [0 0 0 0 0]\n",
      " [0 0 0 0 2]]\n",
      "after\n",
      " [[0 0 0 0 0]\n",
      " [0 1 0 0 0]\n",
      " [0 0 1 0 0]\n",
      " [0 0 0 1 0]\n",
      " [0 0 0 0 2]]\n",
      "before\n",
      " [[0 0 0 0 1]\n",
      " [0 0 4 0 0]\n",
      " [0 0 0 0 0]\n",
      " [0 2 0 0 0]\n",
      " [0 0 3 0 2]]\n",
      "after\n",
      " [[0 0 0 0 1]\n",
      " [0 0 4 2 0]\n",
      " [0 0 2 0 0]\n",
      " [0 2 0 0 0]\n",
      " [0 0 3 0 2]]\n"
     ]
    }
   ],
   "source": [
    "import numpy as np\n",
    "\n",
    "\n",
    "def connect_diagonal(matrix, pixel_src, pixel_dest):\n",
    "    \"\"\"\n",
    "    Diagonal connection of two points. Diagonal gets the color of the start pixel. \n",
    "    :param matrix:\n",
    "    :param pixel_src\n",
    "    :param pixel_dest\n",
    "    :return: matrix_changed\n",
    "    \"\"\"\n",
    "    print(\"before\\n\", np.asarray(matrix))\n",
    "    point_src = (pixel_src[1],pixel_src[0])\n",
    "    point_dest = (pixel_dest[1],pixel_dest[0])\n",
    "\n",
    "    row_src = point_src[0]\n",
    "    column_src = point_src[1]\n",
    "\n",
    "    row_dest = point_dest[0]\n",
    "    #column_dest = point_dest[1]\n",
    "    color = matrix[row_src][column_src]\n",
    "#bottom-top\n",
    "    if row_src < row_dest:\n",
    "        for i in range(row_src, row_dest-1):\n",
    "            matrix[row_src + 1][column_src + 1] = color\n",
    "            row_src += 1\n",
    "            column_src += 1\n",
    "#top-bottom\n",
    "    else:\n",
    "        for i in range(row_dest, row_src-1):\n",
    "            matrix[row_src-1][column_src+1] = color\n",
    "            row_src -=1\n",
    "            column_src +=1\n",
    "    return matrix\n",
    "\n",
    "\n",
    "#bottom-top\n",
    "matrix = [[0, 0, 0, 0, 1], [0, 0, 0, 0, 0], [0, 0, 0, 0, 0], [0, 0, 0, 0, 0], [1, 0, 0, 0, 0]]\n",
    "\n",
    "pixel_src = [0, 4]\n",
    "pixel_dest = [4, 0]\n",
    "\n",
    "print(\"after\\n\", np.asarray(connect_diagonal(matrix, pixel_src, pixel_dest)))\n",
    "\n",
    "#top- bottom\n",
    "matrix = [[0, 0, 0, 0, 0], [0, 1, 0, 0, 0], [0, 0, 0, 0, 0], [0, 0, 0, 0, 0], [0, 0, 0, 0, 2]]\n",
    "\n",
    "pixel_src = [1, 1]\n",
    "pixel_dest = [4, 4]\n",
    "\n",
    "print(\"after\\n\", np.asarray(connect_diagonal(matrix, pixel_src, pixel_dest)))\n",
    "\n",
    "\n",
    "#top- bottom\n",
    "matrix = [[0, 0, 0, 0, 1], [0, 0, 4, 0, 0], [0, 0, 0, 0, 0], [0, 2, 0, 0, 0], [0, 0, 3, 0, 2]]\n",
    "\n",
    "pixel_src = [1, 3]\n",
    "pixel_dest = [4, 0]\n",
    "\n",
    "print(\"after\\n\", np.asarray(connect_diagonal(matrix, pixel_src, pixel_dest)))\n"
   ]
  },
  {
   "cell_type": "code",
   "execution_count": null,
   "id": "e2854edd",
   "metadata": {},
   "outputs": [],
   "source": []
  }
 ],
 "metadata": {
  "kernelspec": {
   "display_name": "Python 3",
   "language": "python",
   "name": "python3"
  },
  "language_info": {
   "codemirror_mode": {
    "name": "ipython",
    "version": 3
   },
   "file_extension": ".py",
   "mimetype": "text/x-python",
   "name": "python",
   "nbconvert_exporter": "python",
   "pygments_lexer": "ipython3",
   "version": "3.8.8"
  }
 },
 "nbformat": 4,
 "nbformat_minor": 5
}
