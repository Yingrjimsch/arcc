{
 "cells": [
  {
   "cell_type": "markdown",
   "id": "e80658a5",
   "metadata": {},
   "source": [
    "# ARC CHALLENGE PLAYGROUND AND TESTING AREA"
   ]
  },
  {
   "cell_type": "code",
   "execution_count": 45,
   "id": "a1ecd279",
   "metadata": {},
   "outputs": [
    {
     "name": "stdout",
     "output_type": "stream",
     "text": [
      "In out {'input': [[8, 6], [6, 4]], 'output': [[8, 6, 8, 6, 8, 6], [6, 4, 6, 4, 6, 4], [6, 8, 6, 8, 6, 8], [4, 6, 4, 6, 4, 6], [8, 6, 8, 6, 8, 6], [6, 4, 6, 4, 6, 4]]}\n",
      "In out {'input': [[7, 9], [4, 3]], 'output': [[7, 9, 7, 9, 7, 9], [4, 3, 4, 3, 4, 3], [9, 7, 9, 7, 9, 7], [3, 4, 3, 4, 3, 4], [7, 9, 7, 9, 7, 9], [4, 3, 4, 3, 4, 3]]}\n",
      "In out {'input': [[3, 2], [7, 8]], 'output': [[3, 2, 3, 2, 3, 2], [7, 8, 7, 8, 7, 8], [2, 3, 2, 3, 2, 3], [8, 7, 8, 7, 8, 7], [3, 2, 3, 2, 3, 2], [7, 8, 7, 8, 7, 8]]}\n"
     ]
    }
   ],
   "source": [
    "import os\n",
    "import json\n",
    "import numpy as np\n",
    "\n",
    "TRAINING_DATA_FOLDER_NAME = 'arcdata/evaluation';\n",
    "fileNames = os.listdir(TRAINING_DATA_FOLDER_NAME);\n",
    "\n",
    "def evaluate_effectiveness_of_function():\n",
    "    with open(f'{TRAINING_DATA_FOLDER_NAME}/{fileNames[0]}', 'r') as file:\n",
    "        data = json.loads(file.read())\n",
    "        for i in data['train']:\n",
    "            print('In out', i)\n",
    "        for i in data['test']:\n",
    "            print('In out', i)\n",
    "evaluate_effectiveness_of_function()\n"
   ]
  },
  {
   "cell_type": "code",
   "execution_count": 17,
   "id": "a7a87ca6",
   "metadata": {},
   "outputs": [
    {
     "name": "stdout",
     "output_type": "stream",
     "text": [
      "[[13  9  5  1]\n",
      " [14 10  6  2]\n",
      " [15 11  7  3]\n",
      " [16 12  8  4]]\n",
      "None\n",
      "[[13  9  5  1]\n",
      " [14 10  6  2]\n",
      " [15 11  7  3]\n",
      " [16 12  8  4]]\n",
      "[[5 1]\n",
      " [6 2]\n",
      " [7 3]\n",
      " [8 4]]\n"
     ]
    }
   ],
   "source": [
    "import numpy as np\n",
    "\"\"\"\n",
    "Rotate a matrix (square or rectangle) clockwise\n",
    "with two tests\n",
    "\"\"\"\n",
    "def rotate_clockwise(matrix):\n",
    "    return np.array(list(zip(*(reversed(matrix)))))\n",
    "\n",
    "matrix_square = [[1,2,3,4],\n",
    "                 [5,6,7,8],\n",
    "                 [9,10,11,12],\n",
    "                 [13,14,15,16]]\n",
    "matrix_rectangle = [[1,2,3,4],\n",
    "                    [5,6,7,8]]\n",
    "print(rotate_clockwise(matrix_square))\n",
    "print(rotate_clockwise(matrix_rectangle))"
   ]
  },
  {
   "cell_type": "code",
   "execution_count": 7,
   "id": "4044708a",
   "metadata": {},
   "outputs": [
    {
     "name": "stdout",
     "output_type": "stream",
     "text": [
      "[[ 4  8 12 16]\n",
      " [ 3  7 11 15]\n",
      " [ 2  6 10 14]\n",
      " [ 1  5  9 13]]\n",
      "[[4 8]\n",
      " [3 7]\n",
      " [2 6]\n",
      " [1 5]]\n"
     ]
    }
   ],
   "source": [
    "import numpy as np\n",
    "\"\"\"\n",
    "Rotate a matrix (square or rectangle) anticlockwise\n",
    "with two tests\n",
    "\"\"\"\n",
    "def rotate_anticlockwise(matrix):\n",
    "    return np.array(list(zip(*matrix))[::-1])\n",
    "\n",
    "matrix_square = [[1,2,3,4],\n",
    "                 [5,6,7,8],\n",
    "                 [9,10,11,12],\n",
    "                 [13,14,15,16]]\n",
    "matrix_rectangle = [[1,2,3,4],\n",
    "                    [5,6,7,8]]\n",
    "print(rotate_anticlockwise(matrix_square))\n",
    "print(rotate_anticlockwise(matrix_rectangle))"
   ]
  },
  {
   "cell_type": "code",
   "execution_count": 9,
   "id": "496c0de5",
   "metadata": {},
   "outputs": [
    {
     "name": "stdout",
     "output_type": "stream",
     "text": [
      "[[13 14 15 16]\n",
      " [ 9 10 11 12]\n",
      " [ 5  6  7  8]\n",
      " [ 1  2  3  4]]\n",
      "[[5 6 7 8]\n",
      " [1 2 3 4]]\n"
     ]
    }
   ],
   "source": [
    "import numpy as np\n",
    "\"\"\"\n",
    "reverse a matrix (square or rectangle)\n",
    "with two tests\n",
    "\"\"\"\n",
    "def reverse(matrix):\n",
    "    return np.array(list(reversed(matrix)))\n",
    "\n",
    "matrix_square = [[1,2,3,4],\n",
    "                 [5,6,7,8],\n",
    "                 [9,10,11,12],\n",
    "                 [13,14,15,16]]\n",
    "matrix_rectangle = [[1,2,3,4],\n",
    "                    [5,6,7,8]]\n",
    "print(reverse(matrix_square))\n",
    "print(reverse(matrix_rectangle))"
   ]
  },
  {
   "cell_type": "code",
   "execution_count": null,
   "id": "a81a5081",
   "metadata": {},
   "outputs": [
    {
     "name": "stdout",
     "output_type": "stream",
     "text": [
      "[[10 10 10 10 10 10]\n",
      " [10  1  2  3  4 10]\n",
      " [10  5  6  7  8 10]\n",
      " [10  9 10 11 12 10]\n",
      " [10 13 14 15 16 10]\n",
      " [10 10 10 10 10 10]]\n",
      "[[10 10 10 10 10 10]\n",
      " [10  1  2  3  4 10]\n",
      " [10  5  6  7  8 10]\n",
      " [10 10 10 10 10 10]]\n"
     ]
    }
   ],
   "source": [
    "import numpy as np\n",
    "\n",
    "def add_border(matrix):\n",
    "    return np.pad(matrix,1,mode='constant',constant_values=10)\n",
    "\n",
    "matrix_square = [[1,2,3,4],\n",
    "                 [5,6,7,8],\n",
    "                 [9,10,11,12],\n",
    "                 [13,14,15,16]]\n",
    "matrix_rectangle = [[1,2,3,4],\n",
    "                    [5,6,7,8]]\n",
    "\n",
    "m1 = add_border(matrix_square)\n",
    "m2 = add_border(matrix_rectangle)\n",
    "print(m1)\n",
    "print(m2)"
   ]
  },
  {
   "cell_type": "code",
   "execution_count": 2,
   "id": "e3103de5",
   "metadata": {},
   "outputs": [
    {
     "name": "stdout",
     "output_type": "stream",
     "text": [
      "True\n",
      "False\n"
     ]
    }
   ],
   "source": [
    "import numpy as np\n",
    "\n",
    "def equal_matrix_dimensions(matrix_one, matrix_two):\n",
    "    \"\"\"\n",
    "    Checks if dimensions of input matrix and output matrix are equal\n",
    "    :param array_one:\n",
    "    :param array_two:\n",
    "    :return: boolean\n",
    "    \"\"\"\n",
    "\n",
    "    matrix_one_new = np.asarray(matrix_one)\n",
    "    matrix_two_new = np.asarray(matrix_two)\n",
    "    return matrix_one_new.shape == matrix_two_new.shape\n",
    "\n",
    "matrix_one = np.array([[1, 2, 3], [4, 5, 6], [7, 8, 9]])\n",
    "matrix_two = np.array([[7, 8, 9], [10, 11, 12], [13, 14, 15]])\n",
    "matrix_three = [[1,2,3,4],[5,6,7,8]]\n",
    "\n",
    "print(equal_matrix_dimensions(matrix_one, matrix_two))\n",
    "print(equal_matrix_dimensions(matrix_one, matrix_three))"
   ]
  },
  {
   "cell_type": "code",
   "execution_count": 1,
   "id": "49a87135",
   "metadata": {},
   "outputs": [
    {
     "name": "stdout",
     "output_type": "stream",
     "text": [
      "[[13. 14. 15.]\n",
      " [ 1.  2.  3.]\n",
      " [ 5.  6.  7.]]\n",
      "[[ 5.  6.  7.]\n",
      " [ 9. 10. 11.]\n",
      " [13. 14. 15.]]\n",
      "[[5. 6. 7.]\n",
      " [1. 2. 3.]\n",
      " [5. 6. 7.]]\n"
     ]
    }
   ],
   "source": [
    "import numpy as np\n",
    "\n",
    "def get_pixel_neighbours(matrix, pixel):\n",
    "    neighbours = np.zeros((3,3))\n",
    "    for i in range(3):\n",
    "        for j in range(3):\n",
    "            neighbours[i, j] = matrix[pixel[0]-1+i, pixel[1]-1+j]\n",
    "    return neighbours\n",
    "\n",
    "matrix_square = np.array([[1,2,3,4],\n",
    "                          [5,6,7,8],\n",
    "                          [9,10,11,12],\n",
    "                          [13,14,15,16]])\n",
    "matrix_rectangle = np.array([[1,2,3,4],\n",
    "                             [5,6,7,8]])\n",
    "\n",
    "print(get_pixel_neighbours(matrix_square,[0,1]))\n",
    "print(get_pixel_neighbours(matrix_square,[2,1]))\n",
    "print(get_pixel_neighbours(matrix_rectangle,[0,1]))"
   ]
  },
  {
   "cell_type": "code",
   "execution_count": 1,
   "id": "47a57445",
   "metadata": {},
   "outputs": [
    {
     "name": "stdout",
     "output_type": "stream",
     "text": [
      "added:  set()\n",
      "remove:  set()\n",
      "modified:  {1: (4, 2), 2: (4, 5), 3: (1, 2)}\n",
      "same:  set()\n",
      "Equality:  False\n",
      "\n",
      "added:  set()\n",
      "remove:  set()\n",
      "modified:  {1: (4, 3)}\n",
      "same:  {2, 3}\n",
      "Equality:  False\n"
     ]
    }
   ],
   "source": [
    "import numpy as np\n",
    "import collections\n",
    "\n",
    "def check_same_color_sum(matrix_one, matrix_two):\n",
    "    \"\"\"\n",
    "    Compares two matrices for equality of the number of the same color values in both.\n",
    "    Matrices are converted to dictionaries for this purpose\n",
    "    :param matrix_one:\n",
    "    :param matrix_two:\n",
    "    :return: added, removed, modified, same, equality\n",
    "    \"\"\"\n",
    "\n",
    "    d1 = collections.Counter(np.asarray(matrix_one).flatten())\n",
    "    d2 = collections.Counter(np.asarray(matrix_two).flatten())\n",
    "    d1_keys = set(d1.keys())\n",
    "    d2_keys = set(d2.keys())\n",
    "    shared_keys = d1_keys.intersection(d2_keys)\n",
    "    added = d1_keys - d2_keys\n",
    "    removed = d2_keys - d1_keys\n",
    "    modified = {o: (d1[o], d2[o]) for o in shared_keys if d1[o] != d2[o]}\n",
    "    same = set(o for o in shared_keys if d1[o] == d2[o])\n",
    "    equality = len(same) == len(d1)\n",
    "    return added, removed, modified, same, equality\n",
    "\n",
    "\n",
    "matrix_one = [[1, 2, 1], [2, 2, 2], [3, 1, 1]]\n",
    "matrix_two = [[1, 2, 1], [2, 2, 2], [3, 2, 3]]\n",
    "matrix_three = [[1, 2, 1, 2], [3, 2, 2, 1]]\n",
    "\n",
    "added, removed, modified, same, equality = check_same_color_sum(matrix_one, matrix_two)\n",
    "\n",
    "print(\"added: \", added)\n",
    "print(\"remove: \", removed)\n",
    "print(\"modified: \", modified)\n",
    "print(\"same: \", same)\n",
    "print(\"Equality: \", equality)\n",
    "print()\n",
    "\n",
    "added, removed, modified, same, equality = check_same_color_sum(matrix_one, matrix_three)\n",
    "\n",
    "print(\"added: \", added)\n",
    "print(\"remove: \", removed)\n",
    "print(\"modified: \", modified)\n",
    "print(\"same: \", same)\n",
    "print(\"Equality: \", equality)"
   ]
  },
  {
   "cell_type": "code",
   "execution_count": 2,
   "id": "6e0c4143",
   "metadata": {},
   "outputs": [
    {
     "name": "stdout",
     "output_type": "stream",
     "text": [
      "before: \n",
      " [[1 2 1]\n",
      " [2 2 2]\n",
      " [3 1 1]]\n",
      "after: \n",
      " [[1 2 1]\n",
      " [2 2 9]\n",
      " [3 1 1]]\n"
     ]
    }
   ],
   "source": [
    "import numpy as np\n",
    "\n",
    "def change_color_pixel(matrix, point, color):\n",
    "    \"\"\"\n",
    "    changes color pixel (value in matrix)\n",
    "    :param matrix:\n",
    "    :param point:\n",
    "    :param color: value from 1 to 9\n",
    "    :return: matrix with changed pixel\n",
    "    \"\"\"\n",
    "    matrix = np.asarray(matrix)\n",
    "    print(\"before: \\n\", matrix)\n",
    "    matrix[point] = color\n",
    "    return matrix\n",
    "\n",
    "\n",
    "matrix = np.array([[1, 2, 1], [2, 2, 2], [3, 1, 1]])\n",
    "point = (1, 2)\n",
    "\n",
    "matrix_changed = change_color_pixel(matrix, point, 9)\n",
    "print(\"after: \\n\", matrix_changed)"
   ]
  },
  {
   "cell_type": "code",
   "execution_count": 3,
   "id": "531099e1",
   "metadata": {},
   "outputs": [
    {
     "name": "stdout",
     "output_type": "stream",
     "text": [
      "matrix_one: \n",
      " [[0, 2, 0], [0, 0, 0], [0, 0, 0]]\n",
      "[[0 0 0]\n",
      " [0 2 0]\n",
      " [0 0 0]]\n",
      "matrix_two: \n",
      " [[0, 2, 0, 0], [0, 0, 0, 0]]\n",
      "[[0 0 0 0]\n",
      " [0 2 0 0]]\n"
     ]
    }
   ],
   "source": [
    "import numpy as np\n",
    "\n",
    "def move_pixel(matrix, pixel, vector):\n",
    "    \"\"\"\n",
    "    Moves a pixel by the specified vector\n",
    "    :param matrix:\n",
    "    :param pixel:\n",
    "    :param vector:\n",
    "    :return: changed matrix\n",
    "    \"\"\"\n",
    "    np_matrix = np.asarray(matrix)\n",
    "    if (pixel[0] + vector[0] or pixel[1] + vector[1]) > np_matrix.shape[0] - 1:\n",
    "        np_matrix[pixel] = 0\n",
    "        return np_matrix\n",
    "    color = np_matrix[pixel]\n",
    "    np_matrix[pixel[0] + vector[0], pixel[1] + vector[1]] = color\n",
    "    np_matrix[pixel] = 0\n",
    "    return np_matrix\n",
    "\n",
    "pixel = (0, 1)\n",
    "vector = (1, 0)\n",
    "\n",
    "matrix_one = [[0, 2, 0], [0, 0, 0], [0, 0, 0]]\n",
    "print(\"matrix_one: \\n\", matrix_one)\n",
    "print(move_pixel(matrix_one, pixel, vector))\n",
    "\n",
    "\n",
    "matrix_two = [[0, 2, 0, 0] ,[0, 0, 0, 0]]\n",
    "print(\"matrix_two: \\n\", matrix_two)\n",
    "print(move_pixel(matrix_two, pixel, vector))\n",
    "\n"
   ]
  },
  {
   "cell_type": "code",
   "execution_count": 4,
   "id": "26eef2b2",
   "metadata": {},
   "outputs": [
    {
     "name": "stdout",
     "output_type": "stream",
     "text": [
      "[array([[1, 0, 1],\n",
      "       [0, 0, 0],\n",
      "       [0, 1, 1]]), array([[0, 2, 0],\n",
      "       [2, 2, 2],\n",
      "       [0, 0, 0]]), array([[0, 0, 0],\n",
      "       [0, 0, 0],\n",
      "       [3, 0, 0]])]\n",
      "\n",
      "[array([[1, 0, 0],\n",
      "       [0, 0, 1],\n",
      "       [0, 1, 0]]), array([[0, 0, 2],\n",
      "       [0, 2, 0],\n",
      "       [2, 0, 0]]), array([[0, 5, 0],\n",
      "       [5, 0, 0],\n",
      "       [0, 0, 0]]), array([[0, 0, 0],\n",
      "       [0, 0, 0],\n",
      "       [0, 0, 6]])]\n"
     ]
    }
   ],
   "source": [
    "import numpy as np\n",
    "\n",
    "def matrix_per_color(matrix):\n",
    "    \"\"\"\n",
    "    Extract all equal color pixels from a matrix and return one matrix per color\n",
    "    :param matrix:\n",
    "    :return: result_matrices\n",
    "    \"\"\"\n",
    "    result_matrices = []\n",
    "    for i in np.unique(matrix):\n",
    "        matrix_check_for_i = np.copy(matrix == i)\n",
    "        result_matrix = matrix * matrix_check_for_i\n",
    "        result_matrices.append(result_matrix)\n",
    "    return result_matrices\n",
    "\n",
    "matrix_one = [[1, 2, 1], [2, 2, 2], [3, 1, 1]]\n",
    "matrix_two = [[1, 5, 2], [5, 2, 1], [2, 1, 6]]\n",
    "\n",
    "results_one = matrix_per_color(matrix_one)\n",
    "results_two = matrix_per_color(matrix_two)\n",
    "\n",
    "print(results_one)\n",
    "print()\n",
    "print(results_two)"
   ]
  },
  {
   "cell_type": "code",
   "execution_count": 7,
   "id": "c0123c9b",
   "metadata": {},
   "outputs": [
    {
     "name": "stdout",
     "output_type": "stream",
     "text": [
      "before: \n",
      " [[1 2 1]\n",
      " [2 2 2]\n",
      " [9 9 1]]\n",
      "before: \n",
      " [[1 2 1]\n",
      " [2 2 2]\n",
      " [4 9 1]]\n",
      "[[1 2 1]\n",
      " [2 2 2]\n",
      " [4 4 1]]\n"
     ]
    }
   ],
   "source": [
    "def change_color_object(matrix_copied, colorobject, color):\n",
    "    \"\"\"\n",
    "    changes color of a whole object in a matrix\n",
    "    :param matrix:\n",
    "    :param object:\n",
    "    :param color:\n",
    "    :return:\n",
    "    \"\"\"\n",
    "\n",
    "    for pixel in colorobject:\n",
    "        change_color_pixel(matrix_copied, pixel, color)\n",
    "    return matrix_copied\n",
    "\n",
    "matrix = np.array([[1, 2, 1], [2, 2, 2], [9, 9, 1]])\n",
    "points = [(2, 0), (2, 1)]\n",
    "\n",
    "matrix_changed = change_color_object(matrix, points, 4)\n",
    "\n",
    "print(matrix_changed)"
   ]
  },
  {
   "cell_type": "code",
   "execution_count": null,
   "id": "4e2bb811",
   "metadata": {},
   "outputs": [],
   "source": []
  }
 ],
 "metadata": {
  "kernelspec": {
   "display_name": "Python 3 (ipykernel)",
   "language": "python",
   "name": "python3"
  },
  "language_info": {
   "codemirror_mode": {
    "name": "ipython",
    "version": 3
   },
   "file_extension": ".py",
   "mimetype": "text/x-python",
   "name": "python",
   "nbconvert_exporter": "python",
   "pygments_lexer": "ipython3",
   "version": "3.9.7"
  }
 },
 "nbformat": 4,
 "nbformat_minor": 5
}
