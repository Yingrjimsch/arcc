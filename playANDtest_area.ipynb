{
 "cells": [
  {
   "cell_type": "markdown",
   "id": "e80658a5",
   "metadata": {},
   "source": [
    "# ARC CHALLENGE PLAYGROUND AND TESTING AREA"
   ]
  },
  {
   "cell_type": "code",
   "execution_count": 19,
   "id": "21341186",
   "metadata": {},
   "outputs": [],
   "source": [
    "import os\n",
    "import json\n",
    "import numpy as np\n",
    "\"\"\"\n",
    "The idea of this function is that a newly created library function can be tested directly on the evaluation data \n",
    "(how many problems could be solved right away with this functionality).\n",
    "\"\"\"\n",
    "TRAINING_DATA_FOLDER_NAME = 'arcdata/evaluation';\n",
    "fileNames = os.listdir(TRAINING_DATA_FOLDER_NAME);\n",
    "fileNames = list(filter(lambda x: 'label' not in x, fileNames))\n",
    "\n",
    "def evaluate_effectiveness_of_function(function):\n",
    "    solved_files = []\n",
    "    #print(fileNames)\n",
    "    for fileName in fileNames:\n",
    "        with open(f'{TRAINING_DATA_FOLDER_NAME}/{fileName}', 'r') as file:\n",
    "            data = json.loads(file.read())\n",
    "            result = []\n",
    "            #print(data)\n",
    "            for i in data['train']:\n",
    "                #print(i)\n",
    "                result.append(np.array_equal(function(i['input']), np.array(i['output'])))\n",
    "            if np.all(result):\n",
    "                solved_files.append(fileName)\n",
    "    return solved_files"
   ]
  },
  {
   "cell_type": "code",
   "execution_count": 33,
   "id": "a7a87ca6",
   "metadata": {},
   "outputs": [
    {
     "name": "stdout",
     "output_type": "stream",
     "text": [
      "Square matrix rotated: [[13  9  5  1]\n",
      " [14 10  6  2]\n",
      " [15 11  7  3]\n",
      " [16 12  8  4]]\n",
      "Rectangular matrix rotated: [[5 1]\n",
      " [6 2]\n",
      " [7 3]\n",
      " [8 4]]\n",
      "Solved problems with this function in training dataset: []\n"
     ]
    }
   ],
   "source": [
    "\"\"\"\n",
    "Rotate a matrix (square or rectangle) clockwise\n",
    "with two tests\n",
    "\"\"\"\n",
    "def rotate_clockwise(matrix):\n",
    "    return np.array(list(zip(*(reversed(matrix)))))\n",
    "\n",
    "matrix_square = [[1,2,3,4],\n",
    "                 [5,6,7,8],\n",
    "                 [9,10,11,12],\n",
    "                 [13,14,15,16]]\n",
    "matrix_rectangle = [[1,2,3,4],\n",
    "                    [5,6,7,8]]\n",
    "print('Square matrix rotated:', rotate_clockwise(matrix_square))\n",
    "print('Rectangular matrix rotated:', rotate_clockwise(matrix_rectangle))\n",
    "print('Solved problems with this function in training dataset:', evaluate_effectiveness_of_function(rotate_clockwise))"
   ]
  },
  {
   "cell_type": "code",
   "execution_count": 32,
   "id": "9e8c82c8",
   "metadata": {},
   "outputs": [
    {
     "name": "stdout",
     "output_type": "stream",
     "text": [
      "Square matrix rotated: [[ 4  8 12 16]\n",
      " [ 3  7 11 15]\n",
      " [ 2  6 10 14]\n",
      " [ 1  5  9 13]]\n",
      "Rectangular matrix rotated: [[4 8]\n",
      " [3 7]\n",
      " [2 6]\n",
      " [1 5]]\n",
      "Solved problems with this function in training dataset: []\n"
     ]
    }
   ],
   "source": [
    "\"\"\"\n",
    "Rotate a matrix (square or rectangle) anticlockwise\n",
    "with two tests\n",
    "\"\"\"\n",
    "def rotate_anticlockwise(matrix):\n",
    "    return np.array(list(zip(*matrix))[::-1])\n",
    "\n",
    "matrix_square = [[1,2,3,4],\n",
    "                 [5,6,7,8],\n",
    "                 [9,10,11,12],\n",
    "                 [13,14,15,16]]\n",
    "matrix_rectangle = [[1,2,3,4],\n",
    "                    [5,6,7,8]]\n",
    "print('Square matrix rotated:', rotate_anticlockwise(matrix_square))\n",
    "print('Rectangular matrix rotated:', rotate_anticlockwise(matrix_rectangle))\n",
    "print('Solved problems with this function in training dataset:', evaluate_effectiveness_of_function(rotate_anticlockwise))"
   ]
  },
  {
   "cell_type": "code",
   "execution_count": 31,
   "id": "0c24edf5",
   "metadata": {},
   "outputs": [
    {
     "name": "stdout",
     "output_type": "stream",
     "text": [
      "Square matrix rotated: [[16 15 14 13]\n",
      " [12 11 10  9]\n",
      " [ 8  7  6  5]\n",
      " [ 4  3  2  1]]\n",
      "Rectangular matrix rotated: [[8 7 6 5]\n",
      " [4 3 2 1]]\n",
      "Solved problems with this function in training dataset: []\n"
     ]
    }
   ],
   "source": [
    "\"\"\"\n",
    "rotate matrix 180 degrees (square or rectangle)\n",
    "with two tests\n",
    "\"\"\"\n",
    "def rotate_180(matrix):\n",
    "    return rotate_clockwise(rotate_clockwise(matrix))\n",
    "\n",
    "matrix_square = [[1,2,3,4],\n",
    "                 [5,6,7,8],\n",
    "                 [9,10,11,12],\n",
    "                 [13,14,15,16]]\n",
    "matrix_rectangle = [[1,2,3,4],\n",
    "                    [5,6,7,8]]\n",
    "print('Square matrix rotated:', rotate_180(matrix_square))\n",
    "print('Rectangular matrix rotated:', rotate_180(matrix_rectangle))\n",
    "print('Solved problems with this function in training dataset:', evaluate_effectiveness_of_function(rotate_180))"
   ]
  },
  {
   "cell_type": "code",
   "execution_count": 30,
   "id": "9d8717b7",
   "metadata": {},
   "outputs": [
    {
     "name": "stdout",
     "output_type": "stream",
     "text": [
      "Square matrix rotated: [[13 14 15 16]\n",
      " [ 9 10 11 12]\n",
      " [ 5  6  7  8]\n",
      " [ 1  2  3  4]]\n",
      "Rectangular matrix rotated: [[5 6 7 8]\n",
      " [1 2 3 4]]\n",
      "Solved problems with this function in training dataset: []\n"
     ]
    }
   ],
   "source": [
    "\"\"\"\n",
    "flip matrix horizontally (square or rectangle)\n",
    "with two tests\n",
    "\"\"\"\n",
    "def flip_horizontally(matrix):\n",
    "    return np.array(list(reversed(matrix)))\n",
    "\n",
    "matrix_square = [[1,2,3,4],\n",
    "                 [5,6,7,8],\n",
    "                 [9,10,11,12],\n",
    "                 [13,14,15,16]]\n",
    "matrix_rectangle = [[1,2,3,4],\n",
    "                    [5,6,7,8]]\n",
    "print('Square matrix rotated:', flip_horizontally(matrix_square))\n",
    "print('Rectangular matrix rotated:', flip_horizontally(matrix_rectangle))\n",
    "print('Solved problems with this function in training dataset:', evaluate_effectiveness_of_function(flip_horizontally))"
   ]
  },
  {
   "cell_type": "code",
   "execution_count": 29,
   "id": "26bc745e",
   "metadata": {},
   "outputs": [
    {
     "name": "stdout",
     "output_type": "stream",
     "text": [
      "Square matrix rotated: [[ 4  3  2  1]\n",
      " [ 8  7  6  5]\n",
      " [12 11 10  9]\n",
      " [16 15 14 13]]\n",
      "Rectangular matrix rotated: [[4 3 2 1]\n",
      " [8 7 6 5]]\n",
      "Solved problems with this function in training dataset: []\n"
     ]
    }
   ],
   "source": [
    "\"\"\"\n",
    "flip matrix horizontally (square or rectangle)\n",
    "with two tests\n",
    "\"\"\"\n",
    "def flip_vertically(matrix):\n",
    "    return rotate_anticlockwise(flip_horizontally(rotate_clockwise(matrix)))\n",
    "\n",
    "matrix_square = [[1,2,3,4],\n",
    "                 [5,6,7,8],\n",
    "                 [9,10,11,12],\n",
    "                 [13,14,15,16]]\n",
    "matrix_rectangle = [[1,2,3,4],\n",
    "                    [5,6,7,8]]\n",
    "print('Square matrix rotated:', flip_vertically(matrix_square))\n",
    "print('Rectangular matrix rotated:', flip_vertically(matrix_rectangle))\n",
    "print('Solved problems with this function in training dataset:', evaluate_effectiveness_of_function(flip_vertically))"
   ]
  },
  {
   "cell_type": "code",
   "execution_count": null,
   "id": "b25c9555",
   "metadata": {},
   "outputs": [],
   "source": []
  }
 ],
 "metadata": {
  "kernelspec": {
   "display_name": "Python 3 (ipykernel)",
   "language": "python",
   "name": "python3"
  },
  "language_info": {
   "codemirror_mode": {
    "name": "ipython",
    "version": 3
   },
   "file_extension": ".py",
   "mimetype": "text/x-python",
   "name": "python",
   "nbconvert_exporter": "python",
   "pygments_lexer": "ipython3",
   "version": "3.9.7"
  }
 },
 "nbformat": 4,
 "nbformat_minor": 5
}
