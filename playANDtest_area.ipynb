{
 "cells": [
  {
   "cell_type": "markdown",
   "id": "e80658a5",
   "metadata": {},
   "source": [
    "# ARC CHALLENGE PLAYGROUND AND TESTING AREA"
   ]
  },
  {
   "cell_type": "code",
   "execution_count": 1,
   "id": "a1ecd279",
   "metadata": {},
   "outputs": [],
   "source": [
    "import os\n",
    "import json\n",
    "import numpy as np\n",
    "\"\"\"\n",
    "The idea of this function is that a newly created library function can be tested directly on the evaluation data \n",
    "(how many problems could be solved right away with this functionality).\n",
    "\"\"\"\n",
    "TRAINING_DATA_FOLDER_NAME = 'arcdata/evaluation';\n",
    "fileNames = os.listdir(TRAINING_DATA_FOLDER_NAME);\n",
    "fileNames = list(filter(lambda x: 'label' not in x, fileNames))\n",
    "\n",
    "def evaluate_effectiveness_of_function(function):\n",
    "    solved_files = []\n",
    "    #print(fileNames)\n",
    "    for fileName in fileNames:\n",
    "        with open(f'{TRAINING_DATA_FOLDER_NAME}/{fileName}', 'r') as file:\n",
    "            data = json.loads(file.read())\n",
    "            result = []\n",
    "            #print(data)\n",
    "            for i in data['train']:\n",
    "                #print(i)\n",
    "                result.append(np.array_equal(function(i['input']), np.array(i['output'])))\n",
    "            if np.all(result):\n",
    "                solved_files.append(fileName)\n",
    "    return solved_files"
   ]
  },
  {
   "cell_type": "code",
   "execution_count": 2,
   "id": "a7a87ca6",
   "metadata": {},
   "outputs": [
    {
     "name": "stdout",
     "output_type": "stream",
     "text": [
      "Square matrix rotated: [[13  9  5  1]\n",
      " [14 10  6  2]\n",
      " [15 11  7  3]\n",
      " [16 12  8  4]]\n",
      "Rectangular matrix rotated: [[5 1]\n",
      " [6 2]\n",
      " [7 3]\n",
      " [8 4]]\n",
      "Solved problems with this function in training dataset: []\n"
     ]
    }
   ],
   "source": [
    "\"\"\"\n",
    "Rotate a matrix (square or rectangle) clockwise\n",
    "with two tests\n",
    "\"\"\"\n",
    "def rotate_clockwise(matrix):\n",
    "    return np.array(list(zip(*(reversed(matrix)))))\n",
    "\n",
    "matrix_square = [[1,2,3,4],\n",
    "                 [5,6,7,8],\n",
    "                 [9,10,11,12],\n",
    "                 [13,14,15,16]]\n",
    "matrix_rectangle = [[1,2,3,4],\n",
    "                    [5,6,7,8]]\n",
    "print('Square matrix rotated:', rotate_clockwise(matrix_square))\n",
    "print('Rectangular matrix rotated:', rotate_clockwise(matrix_rectangle))\n",
    "print('Solved problems with this function in training dataset:', evaluate_effectiveness_of_function(rotate_clockwise))"
   ]
  },
  {
   "cell_type": "code",
   "execution_count": 3,
   "id": "4044708a",
   "metadata": {},
   "outputs": [
    {
     "name": "stdout",
     "output_type": "stream",
     "text": [
      "Square matrix rotated: [[ 4  8 12 16]\n",
      " [ 3  7 11 15]\n",
      " [ 2  6 10 14]\n",
      " [ 1  5  9 13]]\n",
      "Rectangular matrix rotated: [[4 8]\n",
      " [3 7]\n",
      " [2 6]\n",
      " [1 5]]\n",
      "Solved problems with this function in training dataset: []\n"
     ]
    }
   ],
   "source": [
    "\"\"\"\n",
    "Rotate a matrix (square or rectangle) anticlockwise\n",
    "with two tests\n",
    "\"\"\"\n",
    "def rotate_anticlockwise(matrix):\n",
    "    return np.array(list(zip(*matrix))[::-1])\n",
    "\n",
    "matrix_square = [[1,2,3,4],\n",
    "                 [5,6,7,8],\n",
    "                 [9,10,11,12],\n",
    "                 [13,14,15,16]]\n",
    "matrix_rectangle = [[1,2,3,4],\n",
    "                    [5,6,7,8]]\n",
    "print('Square matrix rotated:', rotate_anticlockwise(matrix_square))\n",
    "print('Rectangular matrix rotated:', rotate_anticlockwise(matrix_rectangle))\n",
    "print('Solved problems with this function in training dataset:', evaluate_effectiveness_of_function(rotate_anticlockwise))"
   ]
  },
  {
   "cell_type": "code",
   "execution_count": 4,
   "id": "496c0de5",
   "metadata": {},
   "outputs": [
    {
     "name": "stdout",
     "output_type": "stream",
     "text": [
      "Square matrix rotated: [[16 15 14 13]\n",
      " [12 11 10  9]\n",
      " [ 8  7  6  5]\n",
      " [ 4  3  2  1]]\n",
      "Rectangular matrix rotated: [[8 7 6 5]\n",
      " [4 3 2 1]]\n",
      "Solved problems with this function in training dataset: []\n"
     ]
    }
   ],
   "source": [
    "\"\"\"\n",
    "rotate matrix 180 degrees (square or rectangle)\n",
    "with two tests\n",
    "\"\"\"\n",
    "def rotate_180(matrix):\n",
    "    return rotate_clockwise(rotate_clockwise(matrix))\n",
    "\n",
    "matrix_square = [[1,2,3,4],\n",
    "                 [5,6,7,8],\n",
    "                 [9,10,11,12],\n",
    "                 [13,14,15,16]]\n",
    "matrix_rectangle = [[1,2,3,4],\n",
    "                    [5,6,7,8]]\n",
    "print('Square matrix rotated:', rotate_180(matrix_square))\n",
    "print('Rectangular matrix rotated:', rotate_180(matrix_rectangle))\n",
    "print('Solved problems with this function in training dataset:', evaluate_effectiveness_of_function(rotate_180))"
   ]
  },
  {
   "cell_type": "code",
   "execution_count": 5,
   "id": "01e349b7",
   "metadata": {},
   "outputs": [
    {
     "name": "stdout",
     "output_type": "stream",
     "text": [
      "Square matrix rotated: [[13 14 15 16]\n",
      " [ 9 10 11 12]\n",
      " [ 5  6  7  8]\n",
      " [ 1  2  3  4]]\n",
      "Rectangular matrix rotated: [[5 6 7 8]\n",
      " [1 2 3 4]]\n",
      "Solved problems with this function in training dataset: []\n"
     ]
    }
   ],
   "source": [
    "\"\"\"\n",
    "flip matrix horizontally (square or rectangle)\n",
    "with two tests\n",
    "\"\"\"\n",
    "def flip_horizontally(matrix):\n",
    "    return np.array(list(reversed(matrix)))\n",
    "\n",
    "matrix_square = [[1,2,3,4],\n",
    "                 [5,6,7,8],\n",
    "                 [9,10,11,12],\n",
    "                 [13,14,15,16]]\n",
    "matrix_rectangle = [[1,2,3,4],\n",
    "                    [5,6,7,8]]\n",
    "print('Square matrix rotated:', flip_horizontally(matrix_square))\n",
    "print('Rectangular matrix rotated:', flip_horizontally(matrix_rectangle))\n",
    "print('Solved problems with this function in training dataset:', evaluate_effectiveness_of_function(flip_horizontally))"
   ]
  },
  {
   "cell_type": "code",
   "execution_count": 6,
   "id": "dcc99a9e",
   "metadata": {},
   "outputs": [
    {
     "name": "stdout",
     "output_type": "stream",
     "text": [
      "Square matrix rotated: [[ 4  3  2  1]\n",
      " [ 8  7  6  5]\n",
      " [12 11 10  9]\n",
      " [16 15 14 13]]\n",
      "Rectangular matrix rotated: [[4 3 2 1]\n",
      " [8 7 6 5]]\n",
      "Solved problems with this function in training dataset: []\n"
     ]
    }
   ],
   "source": [
    "\"\"\"\n",
    "flip matrix horizontally (square or rectangle)\n",
    "with two tests\n",
    "\"\"\"\n",
    "def flip_vertically(matrix):\n",
    "    return rotate_anticlockwise(flip_horizontally(rotate_clockwise(matrix)))\n",
    "\n",
    "matrix_square = [[1,2,3,4],\n",
    "                 [5,6,7,8],\n",
    "                 [9,10,11,12],\n",
    "                 [13,14,15,16]]\n",
    "matrix_rectangle = [[1,2,3,4],\n",
    "                    [5,6,7,8]]\n",
    "print('Square matrix rotated:', flip_vertically(matrix_square))\n",
    "print('Rectangular matrix rotated:', flip_vertically(matrix_rectangle))\n",
    "print('Solved problems with this function in training dataset:', evaluate_effectiveness_of_function(flip_vertically))"
   ]
  },
  {
   "cell_type": "code",
   "execution_count": 7,
   "id": "a81a5081",
   "metadata": {},
   "outputs": [
    {
     "name": "stdout",
     "output_type": "stream",
     "text": [
      "[[10 10 10 10 10 10]\n",
      " [10  1  2  3  4 10]\n",
      " [10  5  6  7  8 10]\n",
      " [10  9 10 11 12 10]\n",
      " [10 13 14 15 16 10]\n",
      " [10 10 10 10 10 10]]\n",
      "[[10 10 10 10 10 10]\n",
      " [10  1  2  3  4 10]\n",
      " [10  5  6  7  8 10]\n",
      " [10 10 10 10 10 10]]\n"
     ]
    }
   ],
   "source": [
    "import numpy as np\n",
    "\n",
    "def add_border(matrix):\n",
    "    return np.pad(matrix,1,mode='constant',constant_values=10)\n",
    "\n",
    "matrix_square = [[1,2,3,4],\n",
    "                 [5,6,7,8],\n",
    "                 [9,10,11,12],\n",
    "                 [13,14,15,16]]\n",
    "matrix_rectangle = [[1,2,3,4],\n",
    "                    [5,6,7,8]]\n",
    "\n",
    "m1 = add_border(matrix_square)\n",
    "m2 = add_border(matrix_rectangle)\n",
    "print(m1)\n",
    "print(m2)"
   ]
  },
  {
   "cell_type": "code",
   "execution_count": 8,
   "id": "e3103de5",
   "metadata": {},
   "outputs": [
    {
     "name": "stdout",
     "output_type": "stream",
     "text": [
      "True\n",
      "False\n"
     ]
    }
   ],
   "source": [
    "import numpy as np\n",
    "\n",
    "def equal_matrix_dimensions(matrix_one, matrix_two):\n",
    "    \"\"\"\n",
    "    Checks if dimensions of input matrix and output matrix are equal\n",
    "    :param array_one:\n",
    "    :param array_two:\n",
    "    :return: boolean\n",
    "    \"\"\"\n",
    "\n",
    "    matrix_one_new = np.asarray(matrix_one)\n",
    "    matrix_two_new = np.asarray(matrix_two)\n",
    "    return matrix_one_new.shape == matrix_two_new.shape\n",
    "\n",
    "matrix_one = np.array([[1, 2, 3], [4, 5, 6], [7, 8, 9]])\n",
    "matrix_two = np.array([[7, 8, 9], [10, 11, 12], [13, 14, 15]])\n",
    "matrix_three = [[1,2,3,4],[5,6,7,8]]\n",
    "\n",
    "print(equal_matrix_dimensions(matrix_one, matrix_two))\n",
    "print(equal_matrix_dimensions(matrix_one, matrix_three))"
   ]
  },
  {
   "cell_type": "code",
   "execution_count": 9,
   "id": "49a87135",
   "metadata": {},
   "outputs": [
    {
     "name": "stdout",
     "output_type": "stream",
     "text": [
      "[[13. 14. 15.]\n",
      " [ 1.  2.  3.]\n",
      " [ 5.  6.  7.]]\n",
      "[[ 5.  6.  7.]\n",
      " [ 9. 10. 11.]\n",
      " [13. 14. 15.]]\n",
      "[[5. 6. 7.]\n",
      " [1. 2. 3.]\n",
      " [5. 6. 7.]]\n"
     ]
    }
   ],
   "source": [
    "import numpy as np\n",
    "\n",
    "def get_pixel_neighbours(matrix, pixel):\n",
    "    neighbours = np.zeros((3,3))\n",
    "    for i in range(3):\n",
    "        for j in range(3):\n",
    "            neighbours[i, j] = matrix[pixel[0]-1+i, pixel[1]-1+j]\n",
    "    return neighbours\n",
    "\n",
    "matrix_square = np.array([[1,2,3,4],\n",
    "                          [5,6,7,8],\n",
    "                          [9,10,11,12],\n",
    "                          [13,14,15,16]])\n",
    "matrix_rectangle = np.array([[1,2,3,4],\n",
    "                             [5,6,7,8]])\n",
    "\n",
    "print(get_pixel_neighbours(matrix_square,[0,1]))\n",
    "print(get_pixel_neighbours(matrix_square,[2,1]))\n",
    "print(get_pixel_neighbours(matrix_rectangle,[0,1]))"
   ]
  },
  {
   "cell_type": "code",
   "execution_count": 10,
   "id": "47a57445",
   "metadata": {},
   "outputs": [
    {
     "name": "stdout",
     "output_type": "stream",
     "text": [
      "added:  set()\n",
      "remove:  set()\n",
      "modified:  {1: (4, 2), 2: (4, 5), 3: (1, 2)}\n",
      "same:  set()\n",
      "Equality:  False\n",
      "\n",
      "added:  set()\n",
      "remove:  set()\n",
      "modified:  {1: (4, 3)}\n",
      "same:  {2, 3}\n",
      "Equality:  False\n"
     ]
    }
   ],
   "source": [
    "import numpy as np\n",
    "import collections\n",
    "\n",
    "def check_same_color_sum(matrix_one, matrix_two):\n",
    "    \"\"\"\n",
    "    Compares two matrices for equality of the number of the same color values in both.\n",
    "    Matrices are converted to dictionaries for this purpose\n",
    "    :param matrix_one:\n",
    "    :param matrix_two:\n",
    "    :return: added, removed, modified, same, equality\n",
    "    \"\"\"\n",
    "\n",
    "    d1 = collections.Counter(np.asarray(matrix_one).flatten())\n",
    "    d2 = collections.Counter(np.asarray(matrix_two).flatten())\n",
    "    d1_keys = set(d1.keys())\n",
    "    d2_keys = set(d2.keys())\n",
    "    shared_keys = d1_keys.intersection(d2_keys)\n",
    "    added = d1_keys - d2_keys\n",
    "    removed = d2_keys - d1_keys\n",
    "    modified = {o: (d1[o], d2[o]) for o in shared_keys if d1[o] != d2[o]}\n",
    "    same = set(o for o in shared_keys if d1[o] == d2[o])\n",
    "    equality = len(same) == len(d1)\n",
    "    return added, removed, modified, same, equality\n",
    "\n",
    "\n",
    "matrix_one = [[1, 2, 1], [2, 2, 2], [3, 1, 1]]\n",
    "matrix_two = [[1, 2, 1], [2, 2, 2], [3, 2, 3]]\n",
    "matrix_three = [[1, 2, 1, 2], [3, 2, 2, 1]]\n",
    "\n",
    "added, removed, modified, same, equality = check_same_color_sum(matrix_one, matrix_two)\n",
    "\n",
    "print(\"added: \", added)\n",
    "print(\"remove: \", removed)\n",
    "print(\"modified: \", modified)\n",
    "print(\"same: \", same)\n",
    "print(\"Equality: \", equality)\n",
    "print()\n",
    "\n",
    "added, removed, modified, same, equality = check_same_color_sum(matrix_one, matrix_three)\n",
    "\n",
    "print(\"added: \", added)\n",
    "print(\"remove: \", removed)\n",
    "print(\"modified: \", modified)\n",
    "print(\"same: \", same)\n",
    "print(\"Equality: \", equality)"
   ]
  },
  {
   "cell_type": "code",
   "execution_count": 11,
   "id": "6e0c4143",
   "metadata": {},
   "outputs": [
    {
     "name": "stdout",
     "output_type": "stream",
     "text": [
      "before: \n",
      " [[1 2 1]\n",
      " [2 2 2]\n",
      " [3 1 1]]\n",
      "after: \n",
      " [[1 2 1]\n",
      " [2 2 9]\n",
      " [3 1 1]]\n"
     ]
    }
   ],
   "source": [
    "import numpy as np\n",
    "\n",
    "def change_color_pixel(matrix, point, color):\n",
    "    \"\"\"\n",
    "    changes color pixel (value in matrix)\n",
    "    :param matrix:\n",
    "    :param point:\n",
    "    :param color: value from 1 to 9\n",
    "    :return: matrix with changed pixel\n",
    "    \"\"\"\n",
    "    matrix = np.asarray(matrix)\n",
    "    print(\"before: \\n\", matrix)\n",
    "    matrix[point] = color\n",
    "    return matrix\n",
    "\n",
    "\n",
    "matrix = np.array([[1, 2, 1], [2, 2, 2], [3, 1, 1]])\n",
    "point = (1, 2)\n",
    "\n",
    "matrix_changed = change_color_pixel(matrix, point, 9)\n",
    "print(\"after: \\n\", matrix_changed)"
   ]
  },
  {
   "cell_type": "code",
   "execution_count": 12,
   "id": "531099e1",
   "metadata": {},
   "outputs": [
    {
     "name": "stdout",
     "output_type": "stream",
     "text": [
      "matrix_one: \n",
      " [[0, 2, 0], [0, 0, 0], [0, 0, 0]]\n",
      "[[0 0 0]\n",
      " [0 2 0]\n",
      " [0 0 0]]\n",
      "matrix_two: \n",
      " [[0, 2, 0, 0], [0, 0, 0, 0]]\n",
      "[[0 0 0 0]\n",
      " [0 2 0 0]]\n"
     ]
    }
   ],
   "source": [
    "import numpy as np\n",
    "\n",
    "def move_pixel(matrix, pixel, vector):\n",
    "    \"\"\"\n",
    "    Moves a pixel by the specified vector\n",
    "    :param matrix:\n",
    "    :param pixel:\n",
    "    :param vector:\n",
    "    :return: changed matrix\n",
    "    \"\"\"\n",
    "    np_matrix = np.asarray(matrix)\n",
    "    if (pixel[0] + vector[0] or pixel[1] + vector[1]) > np_matrix.shape[0] - 1:\n",
    "        np_matrix[pixel] = 0\n",
    "        return np_matrix\n",
    "    color = np_matrix[pixel]\n",
    "    np_matrix[pixel[0] + vector[0], pixel[1] + vector[1]] = color\n",
    "    np_matrix[pixel] = 0\n",
    "    return np_matrix\n",
    "\n",
    "pixel = (0, 1)\n",
    "vector = (1, 0)\n",
    "\n",
    "matrix_one = [[0, 2, 0], [0, 0, 0], [0, 0, 0]]\n",
    "print(\"matrix_one: \\n\", matrix_one)\n",
    "print(move_pixel(matrix_one, pixel, vector))\n",
    "\n",
    "\n",
    "matrix_two = [[0, 2, 0, 0] ,[0, 0, 0, 0]]\n",
    "print(\"matrix_two: \\n\", matrix_two)\n",
    "print(move_pixel(matrix_two, pixel, vector))\n",
    "\n"
   ]
  },
  {
   "cell_type": "code",
   "execution_count": 13,
   "id": "26eef2b2",
   "metadata": {},
   "outputs": [
    {
     "name": "stdout",
     "output_type": "stream",
     "text": [
      "[array([[1, 0, 1],\n",
      "       [0, 0, 0],\n",
      "       [0, 1, 1]]), array([[0, 2, 0],\n",
      "       [2, 2, 2],\n",
      "       [0, 0, 0]]), array([[0, 0, 0],\n",
      "       [0, 0, 0],\n",
      "       [3, 0, 0]])]\n",
      "\n",
      "[array([[1, 0, 0],\n",
      "       [0, 0, 1],\n",
      "       [0, 1, 0]]), array([[0, 0, 2],\n",
      "       [0, 2, 0],\n",
      "       [2, 0, 0]]), array([[0, 5, 0],\n",
      "       [5, 0, 0],\n",
      "       [0, 0, 0]]), array([[0, 0, 0],\n",
      "       [0, 0, 0],\n",
      "       [0, 0, 6]])]\n"
     ]
    }
   ],
   "source": [
    "import numpy as np\n",
    "\n",
    "def matrix_per_color(matrix):\n",
    "    \"\"\"\n",
    "    Extract all equal color pixels from a matrix and return one matrix per color\n",
    "    :param matrix:\n",
    "    :return: result_matrices\n",
    "    \"\"\"\n",
    "    result_matrices = []\n",
    "    for i in np.unique(matrix):\n",
    "        matrix_check_for_i = np.copy(matrix == i)\n",
    "        result_matrix = matrix * matrix_check_for_i\n",
    "        result_matrices.append(result_matrix)\n",
    "    return result_matrices\n",
    "\n",
    "matrix_one = [[1, 2, 1], [2, 2, 2], [3, 1, 1]]\n",
    "matrix_two = [[1, 5, 2], [5, 2, 1], [2, 1, 6]]\n",
    "\n",
    "results_one = matrix_per_color(matrix_one)\n",
    "results_two = matrix_per_color(matrix_two)\n",
    "\n",
    "print(results_one)\n",
    "print()\n",
    "print(results_two)"
   ]
  },
  {
   "cell_type": "code",
   "execution_count": 14,
   "id": "c0123c9b",
   "metadata": {},
   "outputs": [
    {
     "name": "stdout",
     "output_type": "stream",
     "text": [
      "before: \n",
      " [[1 2 1]\n",
      " [2 2 2]\n",
      " [9 9 1]]\n",
      "before: \n",
      " [[1 2 1]\n",
      " [2 2 2]\n",
      " [4 9 1]]\n",
      "[[1 2 1]\n",
      " [2 2 2]\n",
      " [4 4 1]]\n"
     ]
    }
   ],
   "source": [
    "def change_color_object(matrix_copied, colorobject, color):\n",
    "    \"\"\"\n",
    "    changes color of a whole object in a matrix\n",
    "    :param matrix:\n",
    "    :param object:\n",
    "    :param color:\n",
    "    :return:\n",
    "    \"\"\"\n",
    "\n",
    "    for pixel in colorobject:\n",
    "        change_color_pixel(matrix_copied, pixel, color)\n",
    "    return matrix_copied\n",
    "\n",
    "matrix = np.array([[1, 2, 1], [2, 2, 2], [9, 9, 1]])\n",
    "points = [(2, 0), (2, 1)]\n",
    "\n",
    "matrix_changed = change_color_object(matrix, points, 4)\n",
    "\n",
    "print(matrix_changed)"
   ]
  },
  {
   "cell_type": "code",
   "execution_count": 15,
   "id": "4e2bb811",
   "metadata": {},
   "outputs": [
    {
     "name": "stdout",
     "output_type": "stream",
     "text": [
      "[[0 1 0 0 0]\n",
      " [1 1 1 0 0]\n",
      " [0 1 0 0 0]\n",
      " [0 0 0 0 0]\n",
      " [0 0 0 0 0]]\n",
      "[[0 0 0 0 0]\n",
      " [0 0 0 0 0]\n",
      " [0 0 0 1 0]\n",
      " [0 0 1 1 1]\n",
      " [0 0 0 1 0]]\n"
     ]
    }
   ],
   "source": [
    "import numpy as np\n",
    "\n",
    "def move_object(matrix, colorobject, vector):\n",
    "    \"\"\"\n",
    "    Moves an object by the specified vector\n",
    "    :param matrix:\n",
    "    :param colorobject:\n",
    "    :param vector:\n",
    "    :return: changed matrix\n",
    "    \"\"\"\n",
    "    np_matrix = np.asarray(matrix)\n",
    "    print(np_matrix)\n",
    "    for pixel in colorobject:\n",
    "        move_pixel(np_matrix, pixel, vector)\n",
    "    return np_matrix\n",
    "\n",
    "\n",
    "matrix = [[0, 1, 0, 0, 0], [1, 1, 1, 0, 0], [0, 1, 0, 0, 0], [0, 0, 0, 0, 0], [0, 0, 0, 0, 0]]\n",
    "colorobject = [(0, 1), (1, 0), (1, 1), (1, 2), (2, 1)]\n",
    "vector = (2, 2)\n",
    "\n",
    "print(move_object(matrix, colorobject, vector))"
   ]
  },
  {
   "cell_type": "code",
   "execution_count": 16,
   "id": "10145738",
   "metadata": {},
   "outputs": [
    {
     "name": "stdout",
     "output_type": "stream",
     "text": [
      "before: \n",
      " [[0 0 2 0]\n",
      " [0 2 0 0]\n",
      " [0 0 0 0]\n",
      " [1 1 1 1]]\n",
      "after: \n",
      " [[0 0 0 0]\n",
      " [0 2 0 0]\n",
      " [0 0 2 0]\n",
      " [1 1 1 1]]\n"
     ]
    }
   ],
   "source": [
    "import numpy as np\n",
    "\n",
    "\n",
    "def gravitate_pixel(matrix, pixel):\n",
    "    \"\"\"\n",
    "    Pixel following the gravitational force to the lowest possible field in the matrix\n",
    "    :param matrix:\n",
    "    :param pixel: which should be moved\n",
    "    :return: matrix_changed\n",
    "    \"\"\"\n",
    "\n",
    "    point = (pixel[1], pixel[0])\n",
    "    row = point[0]\n",
    "    column = point[1]\n",
    "    matrix_changed = np.asarray(matrix)\n",
    "    print(\"before: \\n\", matrix_changed)\n",
    "    color = matrix_changed[row][column]\n",
    "    matrix_changed[row][column] = 0\n",
    "    shape = matrix_changed.shape[0]\n",
    "    for i in range(row+1, shape):\n",
    "        if matrix[i][column] == 0:\n",
    "            continue\n",
    "        if matrix[i][column] != 0:\n",
    "            point_new = (i-1, column)\n",
    "            matrix_changed[point_new[0]][point_new[1]] = color\n",
    "        else:\n",
    "            point_new = (i, column)\n",
    "            matrix_changed[point_new[0]][point_new[1]] = color\n",
    "    return matrix_changed #add matrix.tolist() when convert to input type of matrix\n",
    "\n",
    "\n",
    "matrix = [[0,0,2,0],[0,2,0,0],[0,0,0,0],[1,1,1,1]]\n",
    "\n",
    "pixel = [2, 0]\n",
    "\n",
    "print(\"after: \\n\", gravitate_pixel(matrix,pixel))\n"
   ]
  },
  {
   "cell_type": "code",
   "execution_count": 17,
   "id": "8e90023d",
   "metadata": {},
   "outputs": [
    {
     "name": "stdout",
     "output_type": "stream",
     "text": [
      "before: \n",
      " [[0 0 2 0]\n",
      " [0 2 0 0]\n",
      " [0 0 0 0]\n",
      " [1 1 1 1]]\n",
      "before: \n",
      " [[0 0 0 0]\n",
      " [0 2 0 0]\n",
      " [0 0 2 0]\n",
      " [1 1 1 1]]\n",
      "after\n",
      " [[0 0 0 0]\n",
      " [0 0 0 0]\n",
      " [0 2 2 0]\n",
      " [1 1 1 1]]\n"
     ]
    }
   ],
   "source": [
    "import numpy as np\n",
    "\n",
    "def gravitate_object(matrix, pixel_group):\n",
    "    \"\"\"\n",
    "    Group of Pixels (as object) following the gravitational force to the lowest possible fields in the matrix\n",
    "    :param matrix:\n",
    "    :param object: group of pixels which should be moved\n",
    "    :return: matrix_changed\n",
    "    \"\"\"\n",
    "    #print(\"before:\\n\", np.asarray(matrix))\n",
    "    for pixel in pixel_group:\n",
    "        matrix = gravitate_pixel(matrix, pixel)\n",
    "    return matrix\n",
    "\n",
    "\n",
    "matrix = [[0, 0, 2, 0], [0, 2, 0, 0], [0, 0, 0, 0], [1, 1, 1, 1]]\n",
    "\n",
    "pixel_group = [[2, 0], [1, 1]]\n",
    "\n",
    "print(\"after\\n\", gravitate_object(matrix, pixel_group))"
   ]
  },
  {
   "cell_type": "code",
   "execution_count": 18,
   "id": "0b7f85a4",
   "metadata": {},
   "outputs": [
    {
     "name": "stdout",
     "output_type": "stream",
     "text": [
      "before\n",
      " [[0 0 0 0 1]\n",
      " [0 0 0 0 0]\n",
      " [0 0 0 0 0]\n",
      " [0 0 0 0 0]\n",
      " [1 0 0 0 0]]\n",
      "after\n",
      " [[0 0 0 0 1]\n",
      " [0 0 0 1 0]\n",
      " [0 0 1 0 0]\n",
      " [0 1 0 0 0]\n",
      " [1 0 0 0 0]]\n",
      "before\n",
      " [[0 0 0 0 0]\n",
      " [0 1 0 0 0]\n",
      " [0 0 0 0 0]\n",
      " [0 0 0 0 0]\n",
      " [0 0 0 0 2]]\n",
      "after\n",
      " [[0 0 0 0 0]\n",
      " [0 1 0 0 0]\n",
      " [0 0 1 0 0]\n",
      " [0 0 0 1 0]\n",
      " [0 0 0 0 2]]\n",
      "before\n",
      " [[0 0 0 0 1]\n",
      " [0 0 4 0 0]\n",
      " [0 0 0 0 0]\n",
      " [0 2 0 0 0]\n",
      " [0 0 3 0 2]]\n",
      "after\n",
      " [[0 0 0 0 1]\n",
      " [0 0 4 2 0]\n",
      " [0 0 2 0 0]\n",
      " [0 2 0 0 0]\n",
      " [0 0 3 0 2]]\n"
     ]
    }
   ],
   "source": [
    "import numpy as np\n",
    "\n",
    "\n",
    "def connect_diagonal(matrix, pixel_src, pixel_dest):\n",
    "    \"\"\"\n",
    "    Diagonal connection of two points. Diagonal gets the color of the start pixel. \n",
    "    :param matrix:\n",
    "    :param pixel_src\n",
    "    :param pixel_dest\n",
    "    :return: matrix_changed\n",
    "    \"\"\"\n",
    "    print(\"before\\n\", np.asarray(matrix))\n",
    "    point_src = (pixel_src[1],pixel_src[0])\n",
    "    point_dest = (pixel_dest[1],pixel_dest[0])\n",
    "\n",
    "    row_src = point_src[0]\n",
    "    column_src = point_src[1]\n",
    "\n",
    "    row_dest = point_dest[0]\n",
    "    #column_dest = point_dest[1]\n",
    "    color = matrix[row_src][column_src]\n",
    "#bottom-top\n",
    "    if row_src < row_dest:\n",
    "        for i in range(row_src, row_dest-1):\n",
    "            matrix[row_src + 1][column_src + 1] = color\n",
    "            row_src += 1\n",
    "            column_src += 1\n",
    "#top-bottom\n",
    "    else:\n",
    "        for i in range(row_dest, row_src-1):\n",
    "            matrix[row_src-1][column_src+1] = color\n",
    "            row_src -=1\n",
    "            column_src +=1\n",
    "    return matrix\n",
    "\n",
    "\n",
    "#bottom-top\n",
    "matrix = [[0, 0, 0, 0, 1], [0, 0, 0, 0, 0], [0, 0, 0, 0, 0], [0, 0, 0, 0, 0], [1, 0, 0, 0, 0]]\n",
    "\n",
    "pixel_src = [0, 4]\n",
    "pixel_dest = [4, 0]\n",
    "\n",
    "print(\"after\\n\", np.asarray(connect_diagonal(matrix, pixel_src, pixel_dest)))\n",
    "\n",
    "#top- bottom\n",
    "matrix = [[0, 0, 0, 0, 0], [0, 1, 0, 0, 0], [0, 0, 0, 0, 0], [0, 0, 0, 0, 0], [0, 0, 0, 0, 2]]\n",
    "\n",
    "pixel_src = [1, 1]\n",
    "pixel_dest = [4, 4]\n",
    "\n",
    "print(\"after\\n\", np.asarray(connect_diagonal(matrix, pixel_src, pixel_dest)))\n",
    "\n",
    "\n",
    "#top- bottom\n",
    "matrix = [[0, 0, 0, 0, 1], [0, 0, 4, 0, 0], [0, 0, 0, 0, 0], [0, 2, 0, 0, 0], [0, 0, 3, 0, 2]]\n",
    "\n",
    "pixel_src = [1, 3]\n",
    "pixel_dest = [4, 0]\n",
    "\n",
    "print(\"after\\n\", np.asarray(connect_diagonal(matrix, pixel_src, pixel_dest)))\n"
   ]
  },
  {
   "cell_type": "code",
   "execution_count": 19,
   "id": "9dae5e96",
   "metadata": {},
   "outputs": [
    {
     "name": "stdout",
     "output_type": "stream",
     "text": [
      "before\n",
      " [[0 0 0 2 0]\n",
      " [0 0 0 0 0]\n",
      " [0 0 0 0 0]\n",
      " [1 0 0 0 0]\n",
      " [0 0 0 0 0]]\n",
      "after\n",
      " [[0 0 0 2 0]\n",
      " [0 0 0 1 0]\n",
      " [0 0 0 1 0]\n",
      " [1 1 1 1 0]\n",
      " [0 0 0 0 0]]\n",
      "before\n",
      " [[0 0 0 0 0]\n",
      " [0 1 0 0 0]\n",
      " [0 0 0 0 0]\n",
      " [0 0 0 0 0]\n",
      " [0 0 0 0 2]]\n",
      "after\n",
      " [[0 0 0 0 0]\n",
      " [0 1 1 1 1]\n",
      " [0 0 0 0 1]\n",
      " [0 0 0 0 1]\n",
      " [0 0 0 0 2]]\n",
      "before\n",
      " [[0 0 0 0 2]\n",
      " [0 0 0 0 0]\n",
      " [1 0 0 0 0]]\n",
      "after\n",
      " [[0 0 0 0 2]\n",
      " [0 0 0 0 1]\n",
      " [1 1 1 1 1]]\n"
     ]
    }
   ],
   "source": [
    "import numpy as np\n",
    "\n",
    "\n",
    "def connect_horizontal_vertical(matrix, pixel_src, pixel_dest):\n",
    "    \"\"\"\n",
    "    Connection of two pixels via horizontal - vertical connection. Pixel receives the color of the start pixel\n",
    "    :param matrix:\n",
    "    :param pixel_src:\n",
    "    :param pixel_dest:\n",
    "    :return: matrix_changed\n",
    "    \"\"\"\n",
    "    point_src = (pixel_src[1],pixel_src[0])\n",
    "    point_dest = (pixel_dest[1],pixel_dest[0])\n",
    "\n",
    "    row_src = point_src[0]\n",
    "    column_src = point_src[1]\n",
    "\n",
    "    row_dest = point_dest[0]\n",
    "    column_dest = point_dest[1]\n",
    "\n",
    "    color = matrix[row_src][column_src]\n",
    "    \n",
    "    print(\"before\\n\", np.asarray(matrix))\n",
    "\n",
    "    if row_src < row_dest:\n",
    "        #top-bottom\n",
    "        for i in range(column_src + 1, column_dest +1):\n",
    "            matrix[row_src][column_src + 1] = color\n",
    "            column_src +=1\n",
    "        for j in range(row_src +1, row_dest):\n",
    "            matrix[row_src+1][column_dest] = color\n",
    "            row_src += 1\n",
    "    else:\n",
    "        #bottom-top\n",
    "        for i in range(column_src + 1, column_dest + 1):\n",
    "            matrix[row_src][column_src + 1] = color\n",
    "            column_src += 1\n",
    "        for j in range(row_dest +1, row_src):\n",
    "            matrix[row_src - 1][column_dest] = color\n",
    "            row_src -= 1\n",
    "    return matrix\n",
    "\n",
    "\n",
    "\n",
    "#bottom-top\n",
    "matrix = [[0, 0, 0, 2, 0], [0, 0, 0, 0, 0], [0, 0, 0, 0, 0], [1, 0, 0, 0, 0], [0, 0, 0, 0, 0]]\n",
    "\n",
    "pixel_src = [0, 3]\n",
    "pixel_dest = [3, 0]\n",
    "\n",
    "print(\"after\\n\", np.asarray(connect_horizontal_vertical(matrix, pixel_src, pixel_dest)))\n",
    "\n",
    "#top-bottom\n",
    "matrix = [[0, 0, 0, 0, 0], [0, 1, 0, 0, 0], [0, 0, 0, 0, 0], [0, 0, 0, 0, 0], [0, 0, 0, 0, 2]]\n",
    "\n",
    "pixel_src = [1, 1]\n",
    "pixel_dest = [4, 4]\n",
    "\n",
    "print(\"after\\n\", np.asarray(connect_horizontal_vertical(matrix, pixel_src, pixel_dest)))\n",
    "\n",
    "\n",
    "#bottom-top\n",
    "matrix = [[0, 0, 0, 0, 2], [0, 0, 0, 0, 0], [1, 0, 0, 0, 0]]\n",
    "\n",
    "pixel_src = [0, 2]\n",
    "pixel_dest = [4, 0]\n",
    "\n",
    "print(\"after\\n\", np.asarray(connect_horizontal_vertical(matrix, pixel_src, pixel_dest)))"
   ]
  },
  {
   "cell_type": "code",
   "execution_count": 20,
   "id": "30610fbe",
   "metadata": {},
   "outputs": [
    {
     "name": "stdout",
     "output_type": "stream",
     "text": [
      "Shape: (3, 3)\n",
      "Sum: 15\n",
      "Size: 2\n",
      "Pixels: [<__main__.Pixel object at 0x00000238A3DAAEB0>, <__main__.Pixel object at 0x00000238A3DAAF70>, <__main__.Pixel object at 0x00000238A3DAAFD0>, <__main__.Pixel object at 0x00000238A3DAAD30>, <__main__.Pixel object at 0x00000238A3DAACD0>, <__main__.Pixel object at 0x00000238A3DAAC70>, <__main__.Pixel object at 0x00000238A3DAAC10>, <__main__.Pixel object at 0x00000238A3DAAB80>, <__main__.Pixel object at 0x00000238A3DAAB20>]\n",
      "Colors: [1 2 3]\n",
      "Objects: []\n",
      "Patterns: []\n"
     ]
    }
   ],
   "source": [
    "import numpy as np\n",
    "BORDER_VALUE = -1\n",
    "class Pixel:\n",
    "    def __init__(self, color, coord):\n",
    "        self.color = color\n",
    "        self.coord = coord\n",
    "        \n",
    "class Grid:\n",
    "    def __init__(self, raw_grid):\n",
    "        self.raw = raw_grid\n",
    "        self.shape = raw_grid.shape\n",
    "        self.sum = np.sum(raw_grid)\n",
    "        self.size = len(np.nonzero(raw_grid!=BORDER_VALUE))\n",
    "        self.pixels = [Pixel(color, i) for i,color in enumerate(raw_grid.flatten())]\n",
    "        self.colors = np.unique(raw_grid)\n",
    "        self.objects = []\n",
    "        self.patterns = []\n",
    "        \n",
    "pixel = Pixel(1, [1,2])\n",
    "pixel2 = Pixel(1, [1,2])\n",
    "grid = np.asarray([[1, 2, 1], [2, 2, 2], [3, 1, 1]])\n",
    "g = Grid(grid)\n",
    "print('Shape:', g.shape)\n",
    "print('Sum:',g.sum)\n",
    "print('Size:',g.size)\n",
    "print('Pixels:', g.pixels)\n",
    "print('Colors:', g.colors)\n",
    "print('Objects:', g.objects)\n",
    "print('Patterns:', g.patterns)\n"
   ]
  },
  {
   "cell_type": "code",
   "execution_count": 23,
   "id": "61f59c02",
   "metadata": {},
   "outputs": [
    {
     "data": {
      "text/plain": [
       "6"
      ]
     },
     "execution_count": 23,
     "metadata": {},
     "output_type": "execute_result"
    }
   ],
   "source": [
    "import numpy as np\n",
    "x = np.asarray([[1,2,3,-1],[1,2,3,-1]])\n",
    "len(np.nonzero(x!=-1)[0])\n"
   ]
  },
  {
   "cell_type": "code",
   "execution_count": 56,
   "id": "136ab8aa",
   "metadata": {},
   "outputs": [
    {
     "name": "stdout",
     "output_type": "stream",
     "text": [
      "2\n"
     ]
    }
   ],
   "source": [
    "import numpy as np\n",
    "import preprocessing as pp\n",
    "from pprint import pprint\n",
    "from functools import reduce # Python3\n",
    "\n",
    "pp.BORDER_VALUE = 0\n",
    "class Pixel:\n",
    "    def getX(self):\n",
    "        return self.coord[0]\n",
    "    def getY(self):\n",
    "        return self.coord[1]\n",
    "    def __init__(self, color, coord):\n",
    "        self.color = color\n",
    "        self.coord = coord\n",
    "        \n",
    "class Grid:\n",
    "    def getPixels(self):\n",
    "        return self.pixels\n",
    "    def __init__(self, raw_grid, pixels=[]):\n",
    "        self.raw = raw_grid\n",
    "        self.shape = raw_grid.shape\n",
    "        self.sum = np.sum(raw_grid)\n",
    "        self.size = len(np.nonzero(raw_grid!=0))\n",
    "        if(pixels):\n",
    "            self.pixels = pixels\n",
    "        else:\n",
    "            self.pixels = [Pixel(color, [i[0], i[1]]) for i, color in np.ndenumerate(raw_grid)]\n",
    "        self.colors = np.unique(raw_grid)\n",
    "        self.objects = find_objects(pp.add_border(raw_grid), np.asarray(raw_grid).size)\n",
    "        \n",
    "matrix_square = np.array([[0,0,0,0,0,0,0,0],\n",
    "                [0,0,1,1,1,0,0,0],\n",
    "                [0,0,1,1,1,0,0,0],\n",
    "                [0,0,0,0,0,0,0,0],\n",
    "                [0,0,5,5,0,0,0,0],\n",
    "                [0,0,0,0,0,1,1,0],\n",
    "                [0,0,0,0,2,2,2,0],\n",
    "                [0,0,0,0,0,0,0,0]])\n",
    "\n",
    "def get_pixel_neighbours(matrix, pixel, seen_pos):\n",
    "    if matrix[pixel[0], pixel[1]] == 0:\n",
    "        return\n",
    "    seen_pos.append(Pixel(matrix[pixel[0], pixel[1]], [pixel[0], pixel[1]]))\n",
    "    for i in range(3):\n",
    "        for j in range(3):\n",
    "            d = Pixel(matrix[pixel[0]-1+i, pixel[1]-1+j], [pixel[0]-1+i, pixel[1]-1+j])\n",
    "            if (all(obj.coord != d.coord for obj in seen_pos)) and d.color != 0:\n",
    "                get_pixel_neighbours(matrix, d.coord, seen_pos)\n",
    "    return seen_pos\n",
    "\n",
    "#1. Suche erste Zahl, welche nicht 0 oder 10 ist\n",
    "#2. Get Neighbours rekursiv bis alle neighbours schon im objekt oder 0 oder 10 sind\n",
    "#3. suche nächste Zahl, welche in keinem objekt vorkommt und nicht 0 ist\n",
    "def find_objects(matrix, size):\n",
    "    #print(matrix)\n",
    "    cluster = []\n",
    "    for i in range(len(matrix)):\n",
    "        for j in range(len(matrix)):\n",
    "            if matrix[i][j] == 0 or (cluster and any([i,j] == obj.coord for obj in np.concatenate(np.asarray(list(map(Grid.getPixels, cluster)), dtype=object)).ravel())):\n",
    "                continue\n",
    "            d = get_pixel_neighbours(matrix, [i, j], [])\n",
    "            if math.ceil(np.asarray(d).size / 2) * 2 == size:\n",
    "                return\n",
    "            raw_child = normalize(d)\n",
    "            cluster.append(Grid(raw_child, d))\n",
    "    return cluster\n",
    "\n",
    "def normalize(pixels):\n",
    "    x = max(list(map(Pixel.getX, pixels))) - min(list(map(Pixel.getX, pixels)))\n",
    "    y = max(list(map(Pixel.getY, pixels))) - min(list(map(Pixel.getY, pixels)))\n",
    "    raw = np.zeros((x + 1,y + 1))\n",
    "    \n",
    "    for p in pixels:\n",
    "        raw[(p.getX() - min(list(map(Pixel.getX, pixels))), p.getY() - min(list(map(Pixel.getY, pixels))))] = p.color\n",
    "    return raw\n",
    "    \n",
    "\n",
    "pprint(Grid(matrix_square).size)"
   ]
  },
  {
   "cell_type": "code",
   "execution_count": 7,
   "id": "3400f0f2",
   "metadata": {},
   "outputs": [
    {
     "name": "stdout",
     "output_type": "stream",
     "text": [
      "No err until here: <preprocessing.Grid object at 0x00000206043B2F10>\n",
      "No err until here: <preprocessing.Grid object at 0x00000206043B2F10>\n"
     ]
    },
    {
     "ename": "TypeError",
     "evalue": "'Grid' object is not iterable",
     "output_type": "error",
     "traceback": [
      "\u001b[1;31m---------------------------------------------------------------------------\u001b[0m",
      "\u001b[1;31mTypeError\u001b[0m                                 Traceback (most recent call last)",
      "Input \u001b[1;32mIn [7]\u001b[0m, in \u001b[0;36m<cell line: 10>\u001b[1;34m()\u001b[0m\n\u001b[0;32m      1\u001b[0m \u001b[38;5;28;01mimport\u001b[39;00m \u001b[38;5;21;01mpreprocessing\u001b[39;00m \u001b[38;5;28;01mas\u001b[39;00m \u001b[38;5;21;01mpp\u001b[39;00m\n\u001b[0;32m      2\u001b[0m g \u001b[38;5;241m=\u001b[39m pp\u001b[38;5;241m.\u001b[39mGrid(np\u001b[38;5;241m.\u001b[39marray([[\u001b[38;5;241m0\u001b[39m,\u001b[38;5;241m0\u001b[39m,\u001b[38;5;241m0\u001b[39m,\u001b[38;5;241m0\u001b[39m,\u001b[38;5;241m0\u001b[39m,\u001b[38;5;241m0\u001b[39m,\u001b[38;5;241m0\u001b[39m,\u001b[38;5;241m0\u001b[39m],\n\u001b[0;32m      3\u001b[0m                 [\u001b[38;5;241m0\u001b[39m,\u001b[38;5;241m0\u001b[39m,\u001b[38;5;241m1\u001b[39m,\u001b[38;5;241m1\u001b[39m,\u001b[38;5;241m1\u001b[39m,\u001b[38;5;241m0\u001b[39m,\u001b[38;5;241m0\u001b[39m,\u001b[38;5;241m0\u001b[39m],\n\u001b[0;32m      4\u001b[0m                 [\u001b[38;5;241m0\u001b[39m,\u001b[38;5;241m0\u001b[39m,\u001b[38;5;241m1\u001b[39m,\u001b[38;5;241m1\u001b[39m,\u001b[38;5;241m1\u001b[39m,\u001b[38;5;241m0\u001b[39m,\u001b[38;5;241m0\u001b[39m,\u001b[38;5;241m0\u001b[39m],\n\u001b[1;32m   (...)\u001b[0m\n\u001b[0;32m      8\u001b[0m                 [\u001b[38;5;241m0\u001b[39m,\u001b[38;5;241m0\u001b[39m,\u001b[38;5;241m0\u001b[39m,\u001b[38;5;241m0\u001b[39m,\u001b[38;5;241m2\u001b[39m,\u001b[38;5;241m2\u001b[39m,\u001b[38;5;241m2\u001b[39m,\u001b[38;5;241m0\u001b[39m],\n\u001b[0;32m      9\u001b[0m                 [\u001b[38;5;241m0\u001b[39m,\u001b[38;5;241m0\u001b[39m,\u001b[38;5;241m0\u001b[39m,\u001b[38;5;241m0\u001b[39m,\u001b[38;5;241m0\u001b[39m,\u001b[38;5;241m0\u001b[39m,\u001b[38;5;241m0\u001b[39m,\u001b[38;5;241m0\u001b[39m]]))\n\u001b[1;32m---> 10\u001b[0m \u001b[38;5;28mprint\u001b[39m(\u001b[38;5;28;43mmap\u001b[39;49m\u001b[43m(\u001b[49m\u001b[43mg\u001b[49m\u001b[38;5;241;43m.\u001b[39;49m\u001b[43mpixels\u001b[49m\u001b[43m,\u001b[49m\u001b[43m \u001b[49m\u001b[43mg\u001b[49m\u001b[43m)\u001b[49m)\n",
      "\u001b[1;31mTypeError\u001b[0m: 'Grid' object is not iterable"
     ]
    }
   ],
   "source": [
    "import preprocessing as pp\n",
    "g = pp.Grid(np.array([[0,0,0,0,0,0,0,0],\n",
    "                [0,0,1,1,1,0,0,0],\n",
    "                [0,0,1,1,1,0,0,0],\n",
    "                [0,0,0,0,0,0,0,0],\n",
    "                [0,0,5,5,0,0,0,0],\n",
    "                [0,0,0,0,0,1,1,0],\n",
    "                [0,0,0,0,2,2,2,0],\n",
    "                [0,0,0,0,0,0,0,0]]))\n",
    "print(map(g.pixels, g))"
   ]
  },
  {
   "cell_type": "code",
   "execution_count": 2,
   "id": "10d971c0",
   "metadata": {},
   "outputs": [
    {
     "data": {
      "text/plain": [
       "1"
      ]
     },
     "execution_count": 2,
     "metadata": {},
     "output_type": "execute_result"
    }
   ],
   "source": [
    "obj = []\n",
    "obj = 1\n",
    "obj"
   ]
  },
  {
   "cell_type": "code",
   "execution_count": 58,
   "id": "83e0ac64",
   "metadata": {},
   "outputs": [
    {
     "data": {
      "text/plain": [
       "8"
      ]
     },
     "execution_count": 58,
     "metadata": {},
     "output_type": "execute_result"
    }
   ],
   "source": [
    "test = [[1,2,3,4], [1,2,3,4]]\n",
    "np.asarray(test).size"
   ]
  },
  {
   "cell_type": "code",
   "execution_count": 8,
   "id": "19304855",
   "metadata": {},
   "outputs": [
    {
     "ename": "IndexError",
     "evalue": "tuple index out of range",
     "output_type": "error",
     "traceback": [
      "\u001b[1;31m---------------------------------------------------------------------------\u001b[0m",
      "\u001b[1;31mIndexError\u001b[0m                                Traceback (most recent call last)",
      "Input \u001b[1;32mIn [8]\u001b[0m, in \u001b[0;36m<cell line: 1>\u001b[1;34m()\u001b[0m\n\u001b[1;32m----> 1\u001b[0m \u001b[43m(\u001b[49m\u001b[38;5;241;43m0\u001b[39;49m\u001b[43m,\u001b[49m\u001b[43m)\u001b[49m\u001b[43m[\u001b[49m\u001b[38;5;241;43m1\u001b[39;49m\u001b[43m]\u001b[49m\n",
      "\u001b[1;31mIndexError\u001b[0m: tuple index out of range"
     ]
    }
   ],
   "source": []
  },
  {
   "cell_type": "code",
   "execution_count": 2,
   "id": "68730932",
   "metadata": {},
   "outputs": [
    {
     "data": {
      "text/plain": [
       "6"
      ]
     },
     "execution_count": 2,
     "metadata": {},
     "output_type": "execute_result"
    }
   ],
   "source": [
    "import math\n",
    "math.ceil(5 / 2) * 2"
   ]
  },
  {
   "cell_type": "code",
   "execution_count": 12,
   "id": "c9ca26b5",
   "metadata": {},
   "outputs": [
    {
     "data": {
      "text/plain": [
       "[[1, 2, 3, 4], [5, 6, 7, 8], [9, 10, 11, 12]]"
      ]
     },
     "execution_count": 12,
     "metadata": {},
     "output_type": "execute_result"
    }
   ],
   "source": [
    "test = [[1,2,3,4],\n",
    "        [5,6,7,8],[9,10,11,12]]\n",
    "test"
   ]
  },
  {
   "cell_type": "code",
   "execution_count": 18,
   "id": "70350869",
   "metadata": {},
   "outputs": [
    {
     "name": "stdout",
     "output_type": "stream",
     "text": [
      "test\n",
      "(0, 0) 1\n",
      "(0, 1) 2\n",
      "(0, 2) 3\n",
      "(0, 3) 4\n",
      "(1, 0) 5\n",
      "(1, 1) 6\n",
      "(1, 2) 7\n",
      "(1, 3) 8\n",
      "(2, 0) 9\n",
      "(2, 1) 10\n",
      "(2, 2) 11\n",
      "(2, 3) 12\n"
     ]
    }
   ],
   "source": [
    "for i, x in np.ndenumerate(test):\n",
    "    if i == (0,0):\n",
    "        print('test')\n",
    "    print(i, x)"
   ]
  },
  {
   "cell_type": "code",
   "execution_count": 38,
   "id": "d6406057",
   "metadata": {},
   "outputs": [
    {
     "ename": "SyntaxError",
     "evalue": "invalid syntax (1115586783.py, line 1)",
     "output_type": "error",
     "traceback": [
      "\u001b[1;36m  Input \u001b[1;32mIn [38]\u001b[1;36m\u001b[0m\n\u001b[1;33m    True ? 'a' : 'b'\u001b[0m\n\u001b[1;37m         ^\u001b[0m\n\u001b[1;31mSyntaxError\u001b[0m\u001b[1;31m:\u001b[0m invalid syntax\n"
     ]
    }
   ],
   "source": [
    "True ? 'a' : 'b'"
   ]
  },
  {
   "cell_type": "code",
   "execution_count": null,
   "id": "1f038d76",
   "metadata": {},
   "outputs": [],
   "source": []
  }
 ],
 "metadata": {
  "kernelspec": {
   "display_name": "Python 3 (ipykernel)",
   "language": "python",
   "name": "python3"
  },
  "language_info": {
   "codemirror_mode": {
    "name": "ipython",
    "version": 3
   },
   "file_extension": ".py",
   "mimetype": "text/x-python",
   "name": "python",
   "nbconvert_exporter": "python",
   "pygments_lexer": "ipython3",
   "version": "3.9.7"
  }
 },
 "nbformat": 4,
 "nbformat_minor": 5
}
