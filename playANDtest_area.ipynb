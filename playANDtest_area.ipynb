{
 "cells": [
  {
   "cell_type": "markdown",
   "id": "e80658a5",
   "metadata": {},
   "source": [
    "# ARC CHALLENGE PLAYGROUND AND TESTING AREA"
   ]
  },
  {
   "cell_type": "code",
   "execution_count": 45,
   "id": "a1ecd279",
   "metadata": {},
   "outputs": [
    {
     "name": "stdout",
     "output_type": "stream",
     "text": [
      "In out {'input': [[8, 6], [6, 4]], 'output': [[8, 6, 8, 6, 8, 6], [6, 4, 6, 4, 6, 4], [6, 8, 6, 8, 6, 8], [4, 6, 4, 6, 4, 6], [8, 6, 8, 6, 8, 6], [6, 4, 6, 4, 6, 4]]}\n",
      "In out {'input': [[7, 9], [4, 3]], 'output': [[7, 9, 7, 9, 7, 9], [4, 3, 4, 3, 4, 3], [9, 7, 9, 7, 9, 7], [3, 4, 3, 4, 3, 4], [7, 9, 7, 9, 7, 9], [4, 3, 4, 3, 4, 3]]}\n",
      "In out {'input': [[3, 2], [7, 8]], 'output': [[3, 2, 3, 2, 3, 2], [7, 8, 7, 8, 7, 8], [2, 3, 2, 3, 2, 3], [8, 7, 8, 7, 8, 7], [3, 2, 3, 2, 3, 2], [7, 8, 7, 8, 7, 8]]}\n"
     ]
    }
   ],
   "source": [
    "import os\n",
    "import json\n",
    "import numpy as np\n",
    "\n",
    "TRAINING_DATA_FOLDER_NAME = 'arcdata/evaluation';\n",
    "fileNames = os.listdir(TRAINING_DATA_FOLDER_NAME);\n",
    "\n",
    "def evaluate_effectiveness_of_function():\n",
    "    with open(f'{TRAINING_DATA_FOLDER_NAME}/{fileNames[0]}', 'r') as file:\n",
    "        data = json.loads(file.read())\n",
    "        for i in data['train']:\n",
    "            print('In out', i)\n",
    "        for i in data['test']:\n",
    "            print('In out', i)\n",
    "evaluate_effectiveness_of_function()\n"
   ]
  },
  {
   "cell_type": "code",
   "execution_count": 17,
   "id": "a7a87ca6",
   "metadata": {},
   "outputs": [
    {
     "name": "stdout",
     "output_type": "stream",
     "text": [
      "[[13  9  5  1]\n",
      " [14 10  6  2]\n",
      " [15 11  7  3]\n",
      " [16 12  8  4]]\n",
      "None\n",
      "[[13  9  5  1]\n",
      " [14 10  6  2]\n",
      " [15 11  7  3]\n",
      " [16 12  8  4]]\n",
      "[[5 1]\n",
      " [6 2]\n",
      " [7 3]\n",
      " [8 4]]\n"
     ]
    }
   ],
   "source": [
    "import numpy as np\n",
    "\"\"\"\n",
    "Rotate a matrix (square or rectangle) clockwise\n",
    "with two tests\n",
    "\"\"\"\n",
    "def rotate_clockwise(matrix):\n",
    "    return np.array(list(zip(*(reversed(matrix)))))\n",
    "\n",
    "matrix_square = [[1,2,3,4],\n",
    "                 [5,6,7,8],\n",
    "                 [9,10,11,12],\n",
    "                 [13,14,15,16]]\n",
    "matrix_rectangle = [[1,2,3,4],\n",
    "                    [5,6,7,8]]\n",
    "print(rotate_clockwise(matrix_square))\n",
    "print(rotate_clockwise(matrix_rectangle))"
   ]
  },
  {
   "cell_type": "code",
   "execution_count": 7,
   "id": "4044708a",
   "metadata": {},
   "outputs": [
    {
     "name": "stdout",
     "output_type": "stream",
     "text": [
      "[[ 4  8 12 16]\n",
      " [ 3  7 11 15]\n",
      " [ 2  6 10 14]\n",
      " [ 1  5  9 13]]\n",
      "[[4 8]\n",
      " [3 7]\n",
      " [2 6]\n",
      " [1 5]]\n"
     ]
    }
   ],
   "source": [
    "import numpy as np\n",
    "\"\"\"\n",
    "Rotate a matrix (square or rectangle) anticlockwise\n",
    "with two tests\n",
    "\"\"\"\n",
    "def rotate_anticlockwise(matrix):\n",
    "    return np.array(list(zip(*matrix))[::-1])\n",
    "\n",
    "matrix_square = [[1,2,3,4],\n",
    "                 [5,6,7,8],\n",
    "                 [9,10,11,12],\n",
    "                 [13,14,15,16]]\n",
    "matrix_rectangle = [[1,2,3,4],\n",
    "                    [5,6,7,8]]\n",
    "print(rotate_anticlockwise(matrix_square))\n",
    "print(rotate_anticlockwise(matrix_rectangle))"
   ]
  },
  {
   "cell_type": "code",
   "execution_count": 9,
   "id": "496c0de5",
   "metadata": {},
   "outputs": [
    {
     "name": "stdout",
     "output_type": "stream",
     "text": [
      "[[13 14 15 16]\n",
      " [ 9 10 11 12]\n",
      " [ 5  6  7  8]\n",
      " [ 1  2  3  4]]\n",
      "[[5 6 7 8]\n",
      " [1 2 3 4]]\n"
     ]
    }
   ],
   "source": [
    "import numpy as np\n",
    "\"\"\"\n",
    "reverse a matrix (square or rectangle)\n",
    "with two tests\n",
    "\"\"\"\n",
    "def reverse(matrix):\n",
    "    return np.array(list(reversed(matrix)))\n",
    "\n",
    "matrix_square = [[1,2,3,4],\n",
    "                 [5,6,7,8],\n",
    "                 [9,10,11,12],\n",
    "                 [13,14,15,16]]\n",
    "matrix_rectangle = [[1,2,3,4],\n",
    "                    [5,6,7,8]]\n",
    "print(reverse(matrix_square))\n",
    "print(reverse(matrix_rectangle))"
   ]
  },
  {
   "cell_type": "code",
   "execution_count": null,
   "id": "a81a5081",
   "metadata": {},
   "outputs": [
    {
     "name": "stdout",
     "output_type": "stream",
     "text": [
      "[[10 10 10 10 10 10]\n",
      " [10  1  2  3  4 10]\n",
      " [10  5  6  7  8 10]\n",
      " [10  9 10 11 12 10]\n",
      " [10 13 14 15 16 10]\n",
      " [10 10 10 10 10 10]]\n",
      "[[10 10 10 10 10 10]\n",
      " [10  1  2  3  4 10]\n",
      " [10  5  6  7  8 10]\n",
      " [10 10 10 10 10 10]]\n"
     ]
    }
   ],
   "source": [
    "import numpy as np\n",
    "\n",
    "def add_border(matrix):\n",
    "    return np.pad(matrix,1,mode='constant',constant_values=10)\n",
    "\n",
    "matrix_square = [[1,2,3,4],\n",
    "                 [5,6,7,8],\n",
    "                 [9,10,11,12],\n",
    "                 [13,14,15,16]]\n",
    "matrix_rectangle = [[1,2,3,4],\n",
    "                    [5,6,7,8]]\n",
    "\n",
    "m1 = add_border(matrix_square)\n",
    "m2 = add_border(matrix_rectangle)\n",
    "print(m1)\n",
    "print(m2)"
   ]
  },
  {
   "cell_type": "code",
   "execution_count": 13,
   "id": "6b5c2205",
   "metadata": {},
   "outputs": [
    {
     "name": "stdout",
     "output_type": "stream",
     "text": [
      "[array([[1, 0, 1],\n",
      "       [0, 0, 0],\n",
      "       [0, 1, 1]]), array([[0, 2, 0],\n",
      "       [2, 2, 2],\n",
      "       [0, 0, 0]]), array([[0, 0, 0],\n",
      "       [0, 0, 0],\n",
      "       [3, 0, 0]])]\n",
      "\n",
      "[array([[1, 0, 0],\n",
      "       [0, 0, 1],\n",
      "       [0, 1, 0]]), array([[0, 0, 2],\n",
      "       [0, 2, 0],\n",
      "       [2, 0, 0]]), array([[0, 5, 0],\n",
      "       [5, 0, 0],\n",
      "       [0, 0, 0]]), array([[0, 0, 0],\n",
      "       [0, 0, 0],\n",
      "       [0, 0, 6]])]\n"
     ]
    }
   ],
   "source": [
    "import numpy as np\n",
    "\n",
    "def matrix_per_color(matrix):\n",
    "    \"\"\"\n",
    "    Extract all equal color pixels from a matrix and return one matrix per color\n",
    "    :param matrix:\n",
    "    :return: result_matrices\n",
    "    \"\"\"\n",
    "    result_matrices = []\n",
    "    for i in np.unique(matrix):\n",
    "        matrix_check_for_i = np.copy(matrix == i)\n",
    "        result_matrix = matrix * matrix_check_for_i\n",
    "        result_matrices.append(result_matrix)\n",
    "    return result_matrices\n",
    "\n",
    "matrix_one = [[1, 2, 1], [2, 2, 2], [3, 1, 1]]\n",
    "matrix_two = [[1, 5, 2], [5, 2, 1], [2, 1, 6]]\n",
    "\n",
    "results_one = matrix_per_color(matrix_one)\n",
    "results_two = matrix_per_color(matrix_two)\n",
    "\n",
    "print(results_one)\n",
    "print()\n",
    "print(results_two)"
   ]
  },
  {
   "cell_type": "code",
   "execution_count": null,
   "id": "09e37dcc",
   "metadata": {},
   "outputs": [],
   "source": []
  }
 ],
 "metadata": {
  "kernelspec": {
   "display_name": "Python 3 (ipykernel)",
   "language": "python",
   "name": "python3"
  },
  "language_info": {
   "codemirror_mode": {
    "name": "ipython",
    "version": 3
   },
   "file_extension": ".py",
   "mimetype": "text/x-python",
   "name": "python",
   "nbconvert_exporter": "python",
   "pygments_lexer": "ipython3",
   "version": "3.9.7"
  }
 },
 "nbformat": 4,
 "nbformat_minor": 5
}
