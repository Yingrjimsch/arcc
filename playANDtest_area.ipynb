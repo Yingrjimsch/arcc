{
 "cells": [
  {
   "cell_type": "markdown",
   "id": "e80658a5",
   "metadata": {},
   "source": [
    "# ARC CHALLENGE PLAYGROUND AND TESTING AREA"
   ]
  },
  {
   "cell_type": "code",
   "execution_count": 21,
   "id": "a1ecd279",
   "metadata": {},
   "outputs": [
    {
     "name": "stdout",
     "output_type": "stream",
     "text": [
      "In out {'input': [[8, 6], [6, 4]], 'output': [[8, 6, 8, 6, 8, 6], [6, 4, 6, 4, 6, 4], [6, 8, 6, 8, 6, 8], [4, 6, 4, 6, 4, 6], [8, 6, 8, 6, 8, 6], [6, 4, 6, 4, 6, 4]]}\n",
      "In out {'input': [[7, 9], [4, 3]], 'output': [[7, 9, 7, 9, 7, 9], [4, 3, 4, 3, 4, 3], [9, 7, 9, 7, 9, 7], [3, 4, 3, 4, 3, 4], [7, 9, 7, 9, 7, 9], [4, 3, 4, 3, 4, 3]]}\n",
      "In out {'input': [[3, 2], [7, 8]], 'output': [[3, 2, 3, 2, 3, 2], [7, 8, 7, 8, 7, 8], [2, 3, 2, 3, 2, 3], [8, 7, 8, 7, 8, 7], [3, 2, 3, 2, 3, 2], [7, 8, 7, 8, 7, 8]]}\n"
     ]
    }
   ],
   "source": [
    "import os\n",
    "import json\n",
    "import numpy as np\n",
    "\n",
    "TRAINING_DATA_FOLDER_NAME = 'arcdata/evaluation';\n",
    "fileNames = os.listdir(TRAINING_DATA_FOLDER_NAME);\n",
    "\n",
    "def evaluate_effectiveness_of_function():\n",
    "    with open(f'{TRAINING_DATA_FOLDER_NAME}/{fileNames[0]}', 'r') as file:\n",
    "        data = json.loads(file.read())\n",
    "        for i in data['train']:\n",
    "            print('In out', i)\n",
    "        for i in data['test']:\n",
    "            print('In out', i)\n",
    "evaluate_effectiveness_of_function()\n"
   ]
  },
  {
   "cell_type": "code",
   "execution_count": 22,
   "id": "a7a87ca6",
   "metadata": {},
   "outputs": [
    {
     "name": "stdout",
     "output_type": "stream",
     "text": [
      "[[13  9  5  1]\n",
      " [14 10  6  2]\n",
      " [15 11  7  3]\n",
      " [16 12  8  4]]\n",
      "[[5 1]\n",
      " [6 2]\n",
      " [7 3]\n",
      " [8 4]]\n"
     ]
    }
   ],
   "source": [
    "import numpy as np\n",
    "\"\"\"\n",
    "Rotate a matrix (square or rectangle) clockwise\n",
    "with two tests\n",
    "\"\"\"\n",
    "def rotate_clockwise(matrix):\n",
    "    return np.array(list(zip(*(reversed(matrix)))))\n",
    "\n",
    "matrix_square = [[1,2,3,4],\n",
    "                 [5,6,7,8],\n",
    "                 [9,10,11,12],\n",
    "                 [13,14,15,16]]\n",
    "matrix_rectangle = [[1,2,3,4],\n",
    "                    [5,6,7,8]]\n",
    "print(rotate_clockwise(matrix_square))\n",
    "print(rotate_clockwise(matrix_rectangle))"
   ]
  },
  {
   "cell_type": "code",
   "execution_count": 23,
   "id": "4044708a",
   "metadata": {},
   "outputs": [
    {
     "name": "stdout",
     "output_type": "stream",
     "text": [
      "[[ 4  8 12 16]\n",
      " [ 3  7 11 15]\n",
      " [ 2  6 10 14]\n",
      " [ 1  5  9 13]]\n",
      "[[4 8]\n",
      " [3 7]\n",
      " [2 6]\n",
      " [1 5]]\n"
     ]
    }
   ],
   "source": [
    "import numpy as np\n",
    "\"\"\"\n",
    "Rotate a matrix (square or rectangle) anticlockwise\n",
    "with two tests\n",
    "\"\"\"\n",
    "def rotate_anticlockwise(matrix):\n",
    "    return np.array(list(zip(*matrix))[::-1])\n",
    "\n",
    "matrix_square = [[1,2,3,4],\n",
    "                 [5,6,7,8],\n",
    "                 [9,10,11,12],\n",
    "                 [13,14,15,16]]\n",
    "matrix_rectangle = [[1,2,3,4],\n",
    "                    [5,6,7,8]]\n",
    "print(rotate_anticlockwise(matrix_square))\n",
    "print(rotate_anticlockwise(matrix_rectangle))"
   ]
  },
  {
   "cell_type": "code",
   "execution_count": 24,
   "id": "496c0de5",
   "metadata": {},
   "outputs": [
    {
     "name": "stdout",
     "output_type": "stream",
     "text": [
      "[[13 14 15 16]\n",
      " [ 9 10 11 12]\n",
      " [ 5  6  7  8]\n",
      " [ 1  2  3  4]]\n",
      "[[5 6 7 8]\n",
      " [1 2 3 4]]\n"
     ]
    }
   ],
   "source": [
    "import numpy as np\n",
    "\"\"\"\n",
    "reverse a matrix (square or rectangle)\n",
    "with two tests\n",
    "\"\"\"\n",
    "def reverse(matrix):\n",
    "    return np.array(list(reversed(matrix)))\n",
    "\n",
    "matrix_square = [[1,2,3,4],\n",
    "                 [5,6,7,8],\n",
    "                 [9,10,11,12],\n",
    "                 [13,14,15,16]]\n",
    "matrix_rectangle = [[1,2,3,4],\n",
    "                    [5,6,7,8]]\n",
    "print(reverse(matrix_square))\n",
    "print(reverse(matrix_rectangle))"
   ]
  },
  {
   "cell_type": "code",
   "execution_count": 25,
   "id": "a81a5081",
   "metadata": {},
   "outputs": [
    {
     "name": "stdout",
     "output_type": "stream",
     "text": [
      "[[10 10 10 10 10 10]\n",
      " [10  1  2  3  4 10]\n",
      " [10  5  6  7  8 10]\n",
      " [10  9 10 11 12 10]\n",
      " [10 13 14 15 16 10]\n",
      " [10 10 10 10 10 10]]\n",
      "[[10 10 10 10 10 10]\n",
      " [10  1  2  3  4 10]\n",
      " [10  5  6  7  8 10]\n",
      " [10 10 10 10 10 10]]\n"
     ]
    }
   ],
   "source": [
    "import numpy as np\n",
    "\n",
    "def add_border(matrix):\n",
    "    return np.pad(matrix,1,mode='constant',constant_values=10)\n",
    "\n",
    "matrix_square = [[1,2,3,4],\n",
    "                 [5,6,7,8],\n",
    "                 [9,10,11,12],\n",
    "                 [13,14,15,16]]\n",
    "matrix_rectangle = [[1,2,3,4],\n",
    "                    [5,6,7,8]]\n",
    "\n",
    "m1 = add_border(matrix_square)\n",
    "m2 = add_border(matrix_rectangle)\n",
    "print(m1)\n",
    "print(m2)"
   ]
  },
  {
   "cell_type": "code",
   "execution_count": 49,
   "id": "3b712ec0",
   "metadata": {},
   "outputs": [
    {
     "name": "stdout",
     "output_type": "stream",
     "text": [
      "[array([<__main__.Pixel object at 0x000001CCE2853D90>,\n",
      "       <__main__.Pixel object at 0x000001CCE28539D0>,\n",
      "       <__main__.Pixel object at 0x000001CCE284E160>,\n",
      "       <__main__.Pixel object at 0x000001CCE284E760>,\n",
      "       <__main__.Pixel object at 0x000001CCE29254C0>,\n",
      "       <__main__.Pixel object at 0x000001CCE2925E50>], dtype=object), array([<__main__.Pixel object at 0x000001CCE2853B20>,\n",
      "       <__main__.Pixel object at 0x000001CCE2852550>], dtype=object), array([<__main__.Pixel object at 0x000001CCE2852370>,\n",
      "       <__main__.Pixel object at 0x000001CCE284E730>,\n",
      "       <__main__.Pixel object at 0x000001CCE2925D60>,\n",
      "       <__main__.Pixel object at 0x000001CCE2925A30>,\n",
      "       <__main__.Pixel object at 0x000001CCE2925F70>], dtype=object)]\n"
     ]
    }
   ],
   "source": [
    "import numpy as np\n",
    "from functools import reduce # Python3\n",
    "class Pixel:\n",
    "    def __init__(self, color, coord):\n",
    "        self.color = color\n",
    "        self.coord = coord\n",
    "matrix_square = np.array([[0,0,0,0,0,0,0,0],\n",
    "                [0,0,1,1,1,0,0,0],\n",
    "                [0,0,1,1,1,0,0,0],\n",
    "                [0,0,0,0,0,0,0,0],\n",
    "                [0,0,5,5,0,0,0,0],\n",
    "                [0,0,0,0,0,1,1,0],\n",
    "                [0,0,0,0,2,2,2,0],\n",
    "                [0,0,0,0,0,0,0,0]])\n",
    "def get_pixel_neighbours(matrix, pixel, seen_pos):\n",
    "    if matrix[pixel[0], pixel[1]] == 0:\n",
    "        return\n",
    "    seen_pos.append(Pixel(matrix[pixel[0], pixel[1]], [pixel[0], pixel[1]]))\n",
    "    for i in range(3):\n",
    "        for j in range(3):\n",
    "            d = Pixel(matrix[pixel[0]-1+i, pixel[1]-1+j], [pixel[0]-1+i, pixel[1]-1+j])\n",
    "            if (all(obj.coord != d.coord for obj in seen_pos)) and d.color != 0:\n",
    "                get_pixel_neighbours(matrix, d.coord, seen_pos)\n",
    "    return seen_pos\n",
    "\n",
    "#1. Suche erste Zahl, welche nicht 0 oder 10 ist\n",
    "#2. Get Neighbours rekursiv bis alle neighbours schon im objekt oder 0 oder 10 sind\n",
    "#3. suche nächste Zahl, welche in keinem objekt vorkommt und nicht 0 ist\n",
    "def find_objects(matrix):\n",
    "    cluster = []\n",
    "    for i in range(len(matrix)):\n",
    "        for j in range(len(matrix)):\n",
    "            if matrix[i][j] == 0 or (cluster and any([i,j] == obj.coord for obj in np.concatenate(np.asarray(cluster, dtype=object)).ravel())):\n",
    "                continue\n",
    "            d = get_pixel_neighbours(matrix, [i, j], [])\n",
    "            cluster.append(np.array(d))\n",
    "    return cluster\n",
    "\n",
    "print(find_objects(matrix_square))\n"
   ]
  },
  {
   "cell_type": "code",
   "execution_count": 22,
   "id": "cee7cf51",
   "metadata": {},
   "outputs": [
    {
     "data": {
      "text/plain": [
       "array([[1, 2],\n",
       "       [3, 4]])"
      ]
     },
     "execution_count": 22,
     "metadata": {},
     "output_type": "execute_result"
    }
   ],
   "source": [
    "a = np.array([[1, 2], [3, 4]])\n",
    "b = np.array([[5, 6]])\n",
    "np.concatenate((a, b), axis=0).ravel()\n",
    "a"
   ]
  },
  {
   "cell_type": "code",
   "execution_count": 38,
   "id": "433801d3",
   "metadata": {},
   "outputs": [
    {
     "ename": "SyntaxError",
     "evalue": "invalid syntax (832557483.py, line 1)",
     "output_type": "error",
     "traceback": [
      "\u001b[1;36m  Input \u001b[1;32mIn [38]\u001b[1;36m\u001b[0m\n\u001b[1;33m    arr = [[<__main__.Pixel object at 0x000001CCE26A2E80>, <__main__.Pixel object at 0x000001CCE26A2C10>, <__main__.Pixel object at 0x000001CCE26A2D00>, <__main__.Pixel object at 0x000001CCE26A2A90>, <__main__.Pixel object at 0x000001CCE26A2BE0>, <__main__.Pixel object at 0x000001CCE26A2F40>], [<__main__.Pixel object at 0x000001CCE26A2DF0>, <__main__.Pixel object at 0x000001CCE26A2C40>]]\u001b[0m\n\u001b[1;37m            ^\u001b[0m\n\u001b[1;31mSyntaxError\u001b[0m\u001b[1;31m:\u001b[0m invalid syntax\n"
     ]
    }
   ],
   "source": [
    "arr = [[<__main__.Pixel object at 0x000001CCE26A2E80>, <__main__.Pixel object at 0x000001CCE26A2C10>, <__main__.Pixel object at 0x000001CCE26A2D00>, <__main__.Pixel object at 0x000001CCE26A2A90>, <__main__.Pixel object at 0x000001CCE26A2BE0>, <__main__.Pixel object at 0x000001CCE26A2F40>], [<__main__.Pixel object at 0x000001CCE26A2DF0>, <__main__.Pixel object at 0x000001CCE26A2C40>]]\n"
   ]
  },
  {
   "cell_type": "code",
   "execution_count": null,
   "id": "2330b7d7",
   "metadata": {},
   "outputs": [],
   "source": []
  }
 ],
 "metadata": {
  "kernelspec": {
   "display_name": "Python 3 (ipykernel)",
   "language": "python",
   "name": "python3"
  },
  "language_info": {
   "codemirror_mode": {
    "name": "ipython",
    "version": 3
   },
   "file_extension": ".py",
   "mimetype": "text/x-python",
   "name": "python",
   "nbconvert_exporter": "python",
   "pygments_lexer": "ipython3",
   "version": "3.9.7"
  }
 },
 "nbformat": 4,
 "nbformat_minor": 5
}
