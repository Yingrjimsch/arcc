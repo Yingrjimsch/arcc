{
 "cells": [
  {
   "cell_type": "code",
   "execution_count": 1,
   "id": "ce1d9f2d",
   "metadata": {},
   "outputs": [],
   "source": [
    "import os\n",
    "import json\n",
    "import numpy as np\n",
    "import helper\n",
    "import correlation_functions as cf\n",
    "import preprocessing as pp\n",
    "\n",
    "TRAINING_DATA_FOLDER_NAME = 'arcdata/training'\n",
    "fileNames = os.listdir(TRAINING_DATA_FOLDER_NAME)\n",
    "fileNames = list(filter(lambda x: 'label' not in x, fileNames))\n",
    "jsonList = []\n",
    "for j in fileNames:\n",
    "    with open(TRAINING_DATA_FOLDER_NAME +\"/\" + j,\"r\") as file:\n",
    "        jsonList.append(json.load(file))"
   ]
  },
  {
   "cell_type": "markdown",
   "id": "9061b20f",
   "metadata": {},
   "source": [
    "---\n",
    "Let's take a look at training example \"a79310a0.json\".\n",
    "The main goal is to move the cyan colored object one down and also change the color to red.\n",
    "So - how is it possible to make some conclusions from the correlations?\n",
    "\n",
    "-> By looking at the values \"same object\", we can see, that all the objects in the grid are only the same by shape, not by position or color (this means independent position and independent color):\n",
    "```\n",
    "same objects, idp pos, fix col:\n",
    "-\n",
    "same objects, fix pos, fix col:\n",
    "-\n",
    "same objects, fix pos, idp col:\n",
    "-\n",
    "same objects, idp pos, idp col:\n",
    "[[8. 8.]\n",
    " [8. 8.]]\n",
    "```\n",
    "\n",
    "This means, the fuzzy logic can assume thanks to these parameters, that the object needs to move and needs to change the color.\n",
    "With other parameters like the color from the input- and output-object and their relative positions, it is possible to find all necessary steps to execute and finding a solution."
   ]
  },
  {
   "cell_type": "code",
   "execution_count": 2,
   "id": "42320f8a",
   "metadata": {},
   "outputs": [
    {
     "data": {
      "text/plain": "<Figure size 1440x360 with 2 Axes>",
      "image/png": "[encoded data removed]"
     },
     "metadata": {
      "needs_background": "light"
     },
     "output_type": "display_data"
    },
    {
     "name": "stdout",
     "output_type": "stream",
     "text": [
      "same shape:  True\n",
      "(5, 5)\n",
      "(5, 5)\n",
      "same colors:  False\n",
      "same size:  True\n",
      "4\n",
      "4\n",
      "same color count:  False\n",
      "Counter({0: 21, 8: 4})\n",
      "Counter({0: 21, 2: 4})\n",
      "color diff:  Counter({8: 4, 0: 0, 2: -4})\n",
      "same objects, idp pos, fix col: \n",
      "same objects, fix pos, fix col: \n",
      "same objects, fix pos, idp col: \n",
      "same objects, idp pos, idp col: \n",
      "[[8. 8.]\n",
      " [8. 8.]]\n",
      "Diff:  [[ 8  8  0  0  0]\n",
      " [ 6  6  0  0  0]\n",
      " [-2 -2  0  0  0]\n",
      " [ 0  0  0  0  0]\n",
      " [ 0  0  0  0  0]]\n"
     ]
    },
    {
     "data": {
      "text/plain": "<Figure size 1440x360 with 2 Axes>",
      "image/png": "[encoded data removed]"
     },
     "metadata": {
      "needs_background": "light"
     },
     "output_type": "display_data"
    },
    {
     "name": "stdout",
     "output_type": "stream",
     "text": [
      "same shape:  True\n",
      "(3, 3)\n",
      "(3, 3)\n",
      "same colors:  False\n",
      "same size:  True\n",
      "1\n",
      "1\n",
      "same color count:  False\n",
      "Counter({0: 8, 8: 1})\n",
      "Counter({0: 8, 2: 1})\n",
      "color diff:  Counter({8: 1, 0: 0, 2: -1})\n",
      "same objects, idp pos, fix col: \n",
      "same objects, fix pos, fix col: \n",
      "same objects, fix pos, idp col: \n",
      "same objects, idp pos, idp col: \n",
      "[[8.]]\n",
      "Diff:  [[ 0  8  0]\n",
      " [ 0 -2  0]\n",
      " [ 0  0  0]]\n"
     ]
    },
    {
     "data": {
      "text/plain": "<Figure size 1440x360 with 2 Axes>",
      "image/png": "[encoded data removed]"
     },
     "metadata": {
      "needs_background": "light"
     },
     "output_type": "display_data"
    },
    {
     "name": "stdout",
     "output_type": "stream",
     "text": [
      "same shape:  True\n",
      "(5, 5)\n",
      "(5, 5)\n",
      "same colors:  False\n",
      "same size:  True\n",
      "3\n",
      "3\n",
      "same color count:  False\n",
      "Counter({0: 22, 8: 3})\n",
      "Counter({0: 22, 2: 3})\n",
      "color diff:  Counter({8: 3, 0: 0, 2: -3})\n",
      "same objects, idp pos, fix col: \n",
      "same objects, fix pos, fix col: \n",
      "same objects, fix pos, idp col: \n",
      "same objects, idp pos, idp col: \n",
      "[[8. 8. 8.]]\n",
      "Diff:  [[ 0  0  0  0  0]\n",
      " [ 0  8  8  8  0]\n",
      " [ 0 -2 -2 -2  0]\n",
      " [ 0  0  0  0  0]\n",
      " [ 0  0  0  0  0]]\n"
     ]
    }
   ],
   "source": [
    "from preprocessing import Grid\n",
    "\n",
    "trainDatas = jsonList[260]['train']\n",
    "\n",
    "to_preprocess = np.array([[np.array(trainData['input']),np.array(trainData['output'])] for i, trainData in enumerate(trainDatas)], dtype=object)\n",
    "preprocessed = pp.preprocess(to_preprocess)\n",
    "correlations = cf.correlate(preprocessed)\n",
    "\n",
    "\n",
    "for i, trainData in enumerate(trainDatas):\n",
    "    helper.displayIO([[np.array(trainData['input']),f'input {i}'],[np.array(trainData['output']),f'output {i}']])\n",
    "    inputGrid = Grid(np.array(trainDatas[i]['input']))\n",
    "    outputGrid = Grid(np.array(trainDatas[i]['output']))\n",
    "    print(\"same shape: \", correlations[i].sameShape)\n",
    "    print(inputGrid.shape)\n",
    "    print(outputGrid.shape)\n",
    "    print(\"same colors: \", correlations[i].sameColors)\n",
    "    print(\"same size: \", correlations[i].sameSize)\n",
    "    print(inputGrid.size)\n",
    "    print(outputGrid.size)\n",
    "    print(\"same color count: \", correlations[i].sameColorCount)\n",
    "    print(correlations[i].color_count( inputGrid ))\n",
    "    print(correlations[i].color_count( outputGrid))\n",
    "    print(\"color diff: \", correlations[i].colorDiff)\n",
    "    print(\"same objects, idp pos, fix col: \")\n",
    "    for j, sameObject in enumerate(correlations[i].sameObjectsIdpPosFixCol):\n",
    "        print(sameObject.raw)\n",
    "    print(\"same objects, fix pos, fix col: \")\n",
    "    for j, sameObject in enumerate(correlations[i].sameObjectsFixPosFixCol):\n",
    "        print(sameObject.raw)\n",
    "    print(\"same objects, fix pos, idp col: \")\n",
    "    for j, sameObject in enumerate(correlations[i].sameObjectsFixPosIdpCol):\n",
    "        print(sameObject.raw)\n",
    "    print(\"same objects, idp pos, idp col: \")\n",
    "    for j, sameObject in enumerate(correlations[i].sameObjectsIdpPosIdpCol):\n",
    "        print(sameObject.raw)\n",
    "    print(\"Diff: \", correlations[i].diff)\n"
   ]
  },
  {
   "cell_type": "markdown",
   "source": [
    "---\n",
    "As a second example we look at training example \"05f2a901.json\".\n",
    "The main goal is to move the red colored object to a specific direction, where it will collide with the blue one.\n",
    "So - how is it possible to make some conclusions from the correlations?\n",
    "\n",
    "-> By looking at the value \"same color count\", since it is true, it is clear that no colors get swapped and no other objects \"spawn\".\n",
    "`same color count:  True`\n",
    "\n",
    "-> By looking at the values \"same object\", we can see, that there is an object with `fix pos, fix col` (in this case the cyan colored). Therefore, it is clear that this one should never move and keeps the color.\n",
    "--> Under `idp pos, fix col` is one more object listed, which means, that this one still has a fix color, but it does have an independent position (therefore not fix).\n",
    "```\n",
    "same objects, idp pos, fix col:\n",
    "[[0. 2. 2. 2.]\n",
    " [2. 2. 0. 2.]]\n",
    "[[8. 8.]\n",
    " [8. 8.]]\n",
    "same objects, fix pos, fix col:\n",
    "[[8. 8.]\n",
    " [8. 8.]]\n",
    "same objects, fix pos, idp col:\n",
    "[[8. 8.]\n",
    " [8. 8.]]\n",
    "same objects, idp pos, idp col:\n",
    "[[0. 2. 2. 2.]\n",
    " [2. 2. 0. 2.]]\n",
    "[[8. 8.]\n",
    " [8. 8.]]\n",
    "```\n",
    "\n",
    "This means, the fuzzy logic can assume thanks to these parameters, that the red object needs to move and the other object can be as it is.\n",
    "With other parameters like the *position* of the cyan colored and the *shape* of the red, it is possible to find the distance how far it has to move."
   ],
   "metadata": {
    "collapsed": false
   }
  },
  {
   "cell_type": "code",
   "execution_count": 3,
   "id": "a2ef02a1",
   "metadata": {},
   "outputs": [
    {
     "data": {
      "text/plain": "<Figure size 1440x360 with 2 Axes>",
      "image/png": "[encoded data removed]"
     },
     "metadata": {
      "needs_background": "light"
     },
     "output_type": "display_data"
    },
    {
     "name": "stdout",
     "output_type": "stream",
     "text": [
      "same shape:  True\n",
      "(14, 9)\n",
      "(14, 9)\n",
      "same colors:  True\n",
      "same size:  True\n",
      "10\n",
      "10\n",
      "same color count:  True\n",
      "Counter({0: 116, 2: 6, 8: 4})\n",
      "Counter({0: 116, 2: 6, 8: 4})\n",
      "color diff:  Counter({0: 0, 2: 0, 8: 0})\n",
      "same objects, idp pos, fix col: \n",
      "[[0. 2. 2. 2.]\n",
      " [2. 2. 0. 2.]]\n",
      "[[8. 8.]\n",
      " [8. 8.]]\n",
      "same objects, fix pos, fix col: \n",
      "[[8. 8.]\n",
      " [8. 8.]]\n",
      "same objects, fix pos, idp col: \n",
      "[[8. 8.]\n",
      " [8. 8.]]\n",
      "same objects, idp pos, idp col: \n",
      "[[0. 2. 2. 2.]\n",
      " [2. 2. 0. 2.]]\n",
      "[[8. 8.]\n",
      " [8. 8.]]\n",
      "Diff:  [[ 0  0  0  0  0  0  0  0  0]\n",
      " [ 0  0  0  0  0  0  0  0  0]\n",
      " [ 0  2  2  2  0  0  0  0  0]\n",
      " [ 2  2  0  2  0  0  0  0  0]\n",
      " [ 0  0  0  0  0  0  0  0  0]\n",
      " [ 0  0  0  0  0  0  0  0  0]\n",
      " [ 0  0  0  0  0  0  0  0  0]\n",
      " [ 0  0  0  0  0  0  0  0  0]\n",
      " [ 0 -2 -2 -2  0  0  0  0  0]\n",
      " [-2 -2  0 -2  0  0  0  0  0]\n",
      " [ 0  0  0  0  0  0  0  0  0]\n",
      " [ 0  0  0  0  0  0  0  0  0]\n",
      " [ 0  0  0  0  0  0  0  0  0]\n",
      " [ 0  0  0  0  0  0  0  0  0]]\n"
     ]
    },
    {
     "data": {
      "text/plain": "<Figure size 1440x360 with 2 Axes>",
      "image/png": "[encoded data removed]"
     },
     "metadata": {
      "needs_background": "light"
     },
     "output_type": "display_data"
    },
    {
     "name": "stdout",
     "output_type": "stream",
     "text": [
      "same shape:  True\n",
      "(9, 10)\n",
      "(9, 10)\n",
      "same colors:  True\n",
      "same size:  True\n",
      "13\n",
      "13\n",
      "same color count:  True\n",
      "Counter({0: 77, 2: 9, 8: 4})\n",
      "Counter({0: 77, 2: 9, 8: 4})\n",
      "color diff:  Counter({0: 0, 2: 0, 8: 0})\n",
      "same objects, idp pos, fix col: \n",
      "[[0. 2. 2.]\n",
      " [0. 2. 2.]\n",
      " [2. 2. 2.]\n",
      " [0. 2. 2.]]\n",
      "[[8. 8.]\n",
      " [8. 8.]]\n",
      "same objects, fix pos, fix col: \n",
      "[[8. 8.]\n",
      " [8. 8.]]\n",
      "same objects, fix pos, idp col: \n",
      "[[8. 8.]\n",
      " [8. 8.]]\n",
      "same objects, idp pos, idp col: \n",
      "[[0. 2. 2.]\n",
      " [0. 2. 2.]\n",
      " [2. 2. 2.]\n",
      " [0. 2. 2.]]\n",
      "[[8. 8.]\n",
      " [8. 8.]]\n",
      "Diff:  [[ 0  0  0  0  0  0  0  0  0  0]\n",
      " [ 0  2  2  0 -2 -2  0  0  0  0]\n",
      " [ 0  2  2  0 -2 -2  0  0  0  0]\n",
      " [ 2  2  2 -2 -2 -2  0  0  0  0]\n",
      " [ 0  2  2  0 -2 -2  0  0  0  0]\n",
      " [ 0  0  0  0  0  0  0  0  0  0]\n",
      " [ 0  0  0  0  0  0  0  0  0  0]\n",
      " [ 0  0  0  0  0  0  0  0  0  0]\n",
      " [ 0  0  0  0  0  0  0  0  0  0]]\n"
     ]
    },
    {
     "data": {
      "text/plain": "<Figure size 1440x360 with 2 Axes>",
      "image/png": "[encoded data removed]"
     },
     "metadata": {
      "needs_background": "light"
     },
     "output_type": "display_data"
    },
    {
     "name": "stdout",
     "output_type": "stream",
     "text": [
      "same shape:  True\n",
      "(11, 10)\n",
      "(11, 10)\n",
      "same colors:  True\n",
      "same size:  True\n",
      "14\n",
      "14\n",
      "same color count:  True\n",
      "Counter({0: 96, 2: 10, 8: 4})\n",
      "Counter({0: 96, 2: 10, 8: 4})\n",
      "color diff:  Counter({0: 0, 8: 0, 2: 0})\n",
      "same objects, idp pos, fix col: \n",
      "[[8. 8.]\n",
      " [8. 8.]]\n",
      "[[0. 0. 2. 2. 2.]\n",
      " [2. 2. 2. 2. 2.]\n",
      " [0. 2. 2. 0. 0.]]\n",
      "same objects, fix pos, fix col: \n",
      "[[8. 8.]\n",
      " [8. 8.]]\n",
      "same objects, fix pos, idp col: \n",
      "[[8. 8.]\n",
      " [8. 8.]]\n",
      "same objects, idp pos, idp col: \n",
      "[[8. 8.]\n",
      " [8. 8.]]\n",
      "[[0. 0. 2. 2. 2.]\n",
      " [2. 2. 2. 2. 2.]\n",
      " [0. 2. 2. 0. 0.]]\n",
      "Diff:  [[ 0  0  0  0  0  0  0  0  0  0]\n",
      " [ 0  0  0  0  0  0  0  0  0  0]\n",
      " [ 0  0  0  0  0  0  0  0  0  0]\n",
      " [ 0  0  0 -2 -2 -2  0  0  0  0]\n",
      " [ 0 -2 -2 -2 -2 -2  0  0  0  0]\n",
      " [ 0  0 -2 -2  0  0  0  0  0  0]\n",
      " [ 0  0  0  2  2  2  0  0  0  0]\n",
      " [ 0  2  2  2  2  2  0  0  0  0]\n",
      " [ 0  0  2  2  0  0  0  0  0  0]\n",
      " [ 0  0  0  0  0  0  0  0  0  0]\n",
      " [ 0  0  0  0  0  0  0  0  0  0]]\n"
     ]
    }
   ],
   "source": [
    "from preprocessing import Grid\n",
    "\n",
    "trainDatas = jsonList[7]['train']\n",
    "\n",
    "to_preprocess = np.array([[np.array(trainData['input']),np.array(trainData['output'])] for i, trainData in enumerate(trainDatas)], dtype=object)\n",
    "preprocessed = pp.preprocess(to_preprocess)\n",
    "correlations = cf.correlate(preprocessed)\n",
    "\n",
    "\n",
    "for i, trainData in enumerate(trainDatas):\n",
    "    helper.displayIO([[np.array(trainData['input']),f'input {i}'],[np.array(trainData['output']),f'output {i}']])\n",
    "    inputGrid = Grid(np.array(trainDatas[i]['input']))\n",
    "    outputGrid = Grid(np.array(trainDatas[i]['output']))\n",
    "    print(\"same shape: \", correlations[i].sameShape)\n",
    "    print(inputGrid.shape)\n",
    "    print(outputGrid.shape)\n",
    "    print(\"same colors: \", correlations[i].sameColors)\n",
    "    print(\"same size: \", correlations[i].sameSize)\n",
    "    print(inputGrid.size)\n",
    "    print(outputGrid.size)\n",
    "    print(\"same color count: \", correlations[i].sameColorCount)\n",
    "    print(correlations[i].color_count( inputGrid ))\n",
    "    print(correlations[i].color_count( outputGrid))\n",
    "    print(\"color diff: \", correlations[i].colorDiff)\n",
    "    print(\"same objects, idp pos, fix col: \")\n",
    "    for j, sameObject in enumerate(correlations[i].sameObjectsIdpPosFixCol):\n",
    "        print(sameObject.raw)\n",
    "    print(\"same objects, fix pos, fix col: \")\n",
    "    for j, sameObject in enumerate(correlations[i].sameObjectsFixPosFixCol):\n",
    "        print(sameObject.raw)\n",
    "    print(\"same objects, fix pos, idp col: \")\n",
    "    for j, sameObject in enumerate(correlations[i].sameObjectsFixPosIdpCol):\n",
    "        print(sameObject.raw)\n",
    "    print(\"same objects, idp pos, idp col: \")\n",
    "    for j, sameObject in enumerate(correlations[i].sameObjectsIdpPosIdpCol):\n",
    "        print(sameObject.raw)\n",
    "    print(\"Diff: \", correlations[i].diff)\n"
   ]
  }
 ],
 "metadata": {
  "kernelspec": {
   "display_name": "Python 3 (ipykernel)",
   "language": "python",
   "name": "python3"
  },
  "language_info": {
   "codemirror_mode": {
    "name": "ipython",
    "version": 3
   },
   "file_extension": ".py",
   "mimetype": "text/x-python",
   "name": "python",
   "nbconvert_exporter": "python",
   "pygments_lexer": "ipython3",
   "version": "3.9.12"
  }
 },
 "nbformat": 4,
 "nbformat_minor": 5
}
