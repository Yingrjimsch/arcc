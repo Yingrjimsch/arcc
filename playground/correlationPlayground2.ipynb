{
 "cells": [
  {
   "cell_type": "markdown",
   "id": "2a247bcc",
   "metadata": {},
   "source": [
    "# Solving Tasks"
   ]
  },
  {
   "cell_type": "code",
   "execution_count": 13,
   "id": "1ed124e8",
   "metadata": {},
   "outputs": [],
   "source": [
    "import numpy as np\n",
    "import os\n",
    "import json\n",
    "TRAINING_DATA_FOLDER_NAME = 'arcdata/evaluation';\n",
    "fileNames = os.listdir(TRAINING_DATA_FOLDER_NAME);\n",
    "fileNames = list(filter(lambda x: 'label' not in x, fileNames))\n",
    "def get_task(index):\n",
    "    \"\"\"\n",
    "    The idea of this function is that a newly created library function can be tested directly on the evaluation data \n",
    "    (how many problems could be solved right away with this functionality).\n",
    "    \"\"\"\n",
    "    with open(f'{TRAINING_DATA_FOLDER_NAME}/{fileNames[index]}', 'r') as file:\n",
    "        data = json.loads(file.read())\n",
    "        train = []\n",
    "        test = []\n",
    "        for i in data['train']:\n",
    "            train.append([np.asarray(i['input']), np.asarray(i['output'])])\n",
    "        for i in data['test']:\n",
    "            test.append([np.asarray(i['input']), np.asarray(i['output'])])\n",
    "    return train, test"
   ]
  },
  {
   "cell_type": "code",
   "execution_count": 21,
   "id": "55010409",
   "metadata": {},
   "outputs": [
    {
     "data": {
      "image/png": "[encoded data removed]",
      "text/plain": [
       "<Figure size 2000x500 with 3 Axes>"
      ]
     },
     "metadata": {},
     "output_type": "display_data"
    }
   ],
   "source": [
    "import transformation_functions as trfu\n",
    "import helper as hlp\n",
    "train, test = get_task(0)\n",
    "r1 = np.tile(test[0][0], (1,3))\n",
    "r2 = trfu.flip_vertically(r1)\n",
    "r3 = np.append(r1, r2, axis=0)\n",
    "r4 = np.append(r3,r1, axis=0)\n",
    "hlp.displayIO([[test[0][0], 'Final Input'],[r4, 'Final Output'], [test[0][1], 'Expected Output']])"
   ]
  },
  {
   "cell_type": "code",
   "execution_count": 18,
   "id": "123298bc",
   "metadata": {
    "scrolled": true
   },
   "outputs": [
    {
     "data": {
      "text/plain": [
       "(True,\n",
       " False,\n",
       " False,\n",
       " False,\n",
       " [array([[0., 0., 0., 1., 1., 0., 1., 1., 0.],\n",
       "         [0., 0., 0., 0., 1., 1., 1., 0., 0.],\n",
       "         [0., 1., 1., 1., 1., 0., 0., 0., 0.],\n",
       "         [1., 1., 0., 1., 0., 0., 1., 1., 0.],\n",
       "         [0., 0., 0., 1., 1., 1., 1., 0., 0.],\n",
       "         [0., 0., 0., 0., 1., 0., 1., 0., 0.],\n",
       "         [0., 0., 1., 1., 1., 0., 1., 1., 1.],\n",
       "         [0., 0., 1., 0., 0., 0., 0., 0., 1.]])],\n",
       " 1)"
      ]
     },
     "execution_count": 18,
     "metadata": {},
     "output_type": "execute_result"
    }
   ],
   "source": [
    "import helper as hlp\n",
    "import preprocessing as pp\n",
    "import numexpr as ne\n",
    "train, test = get_task(1)\n",
    "inp = pp.preprocess(train)[0][0]\n",
    "outp = pp.preprocess(train)[0][1]\n",
    "'''\n",
    "hlp.displayIO([[train[0][0], 'Input'],[train[0][1], 'Output']])\n",
    "hlp.displayIO([[train[1][0], 'Input'],[train[1][1], 'Output']])\n",
    "hlp.displayIO([[train[2][0], 'Input'],[train[2][1], 'Output']])\n",
    "hlp.displayIO([[train[3][0], 'Input'],[train[3][1], 'Output']])\n",
    "hlp.displayIO([[train[4][0], 'Input'],[train[4][1], 'Output']])\n",
    "hlp.displayIO([[test[0][0], 'Final Input'],[test[0][1], 'Expected Output']])\n",
    "print(json.dumps(pp.preprocess(train)[0][0], indent=4, cls=hlp.HitchHikersEncoder))\n",
    "'''\n",
    "\n",
    "sameShape = inp.shape == outp.shape\n",
    "sameSum = inp.sum == outp.sum\n",
    "sameSize = inp.size == outp.size\n",
    "sameColor = np.array_equal(inp.colors, outp.colors)\n",
    "#sameObjectCount = np.asarray(inp.objects).size == np.asarray(outp.objects).size\n",
    "sameSum, inp.sum, outp.sum\n",
    "np.asarray(inp.objects).size, np.asarray(outp.objects).size\n",
    "sameObjects=[]\n",
    "for i in inp.objects:\n",
    "    for j in outp.objects:\n",
    "        if np.array_equal(i.getRawWithoutColor(), j.getRawWithoutColor()):\n",
    "            sameObjects.append(i.getRawWithoutColor())           \n",
    "sameObjects, len(sameObjects)\n",
    "diff = abs(inp.raw - outp.raw)\n",
    "sameShape, sameSum, sameSize, sameColor, sameObjects, len(sameObjects)"
   ]
  },
  {
   "cell_type": "code",
   "execution_count": 49,
   "id": "a41c0f2c",
   "metadata": {},
   "outputs": [
    {
     "data": {
      "text/plain": [
       "[array([[0., 0., 0., 1., 1., 0., 1., 1., 0.],\n",
       "        [0., 0., 0., 0., 1., 1., 1., 0., 0.],\n",
       "        [0., 1., 1., 1., 1., 0., 0., 0., 0.],\n",
       "        [1., 1., 0., 1., 0., 0., 1., 1., 0.],\n",
       "        [0., 0., 0., 1., 1., 1., 1., 0., 0.],\n",
       "        [0., 0., 0., 0., 1., 0., 1., 0., 0.],\n",
       "        [0., 0., 1., 1., 1., 0., 1., 1., 1.],\n",
       "        [0., 0., 1., 0., 0., 0., 0., 0., 1.]])]"
      ]
     },
     "execution_count": 49,
     "metadata": {},
     "output_type": "execute_result"
    }
   ],
   "source": [
    "class Correlation:\n",
    "    def __init__(self, i, o):\n",
    "        self.sameShape = i.shape == o.shape\n",
    "        self.sameSum = i.sum == o.sum\n",
    "        self.sameSize = i.size == o.size\n",
    "        self.sameColor = np.array_equal(i.colors, o.colors)\n",
    "        self.sameObjects=[]\n",
    "        for i_objects in i.objects:\n",
    "            for o_objects in o.objects:\n",
    "                if np.array_equal(i_objects.getRawWithoutColor(), o_objects.getRawWithoutColor()):\n",
    "                    self.sameObjects.append(i_objects.getRawWithoutColor()) \n",
    "wessen = Correlation(inp, outp)\n",
    "wessen.sameObjects"
   ]
  },
  {
   "cell_type": "code",
   "execution_count": 46,
   "id": "21253598",
   "metadata": {},
   "outputs": [],
   "source": [
    "import math\n",
    "question = math.nan"
   ]
  },
  {
   "cell_type": "code",
   "execution_count": 60,
   "id": "8f40c020",
   "metadata": {
    "scrolled": true
   },
   "outputs": [
    {
     "name": "stdout",
     "output_type": "stream",
     "text": [
      "0.5555555555555556\n",
      "raw [[ True False  True]\n",
      " [False  True False]\n",
      " [ True False  True]]\n",
      "array\n",
      "tuple\n",
      "sum False\n",
      "int\n",
      "size True\n",
      "int\n",
      "0.0\n",
      "pixels False\n",
      "array\n",
      "1.0\n",
      "colors [ True  True  True]\n",
      "array\n",
      "0.0\n",
      "objects False\n",
      "array\n"
     ]
    }
   ],
   "source": [
    "import preprocessing as pp\n",
    "import numpy as np\n",
    "matrix_two = [[1, 2, 1], \n",
    "              [2, 2, 2], \n",
    "              [3, 2, 3]]\n",
    "matrix_one = [[1, 1, 1], \n",
    "              [1, 2, 1], \n",
    "              [3, 1, 3]]\n",
    "m1 = pp.Grid(np.array(matrix_one))\n",
    "m2 = pp.Grid(np.array(matrix_two))\n",
    "arr = []\n",
    "for attribute, value in vars(m2).items():\n",
    "    #print(getattr(m1, attribute))\n",
    "    if type(value) == int or type(value) == np.int32:\n",
    "        print(attribute, value == getattr(m1, attribute))\n",
    "        print('int')\n",
    "    elif type(value) == tuple:\n",
    "        print('tuple')\n",
    "    elif type(value) == np.ndarray or type(value) == list:\n",
    "        print(np.count_nonzero(value == getattr(m1, attribute)) / np.asarray(value).size)\n",
    "        print(attribute, value == getattr(m1, attribute))\n",
    "        print('array')\n",
    "    else:\n",
    "        print('default')\n",
    "    #print(type(value) == int or type(value) == np.int32)\n",
    "    #print(attribute, value, type(value))"
   ]
  },
  {
   "cell_type": "code",
   "execution_count": 20,
   "id": "e36d922b",
   "metadata": {},
   "outputs": [
    {
     "name": "stdout",
     "output_type": "stream",
     "text": [
      "test\n"
     ]
    }
   ],
   "source": [
    "print('test')"
   ]
  },
  {
   "cell_type": "code",
   "execution_count": 29,
   "id": "22315dd2",
   "metadata": {},
   "outputs": [
    {
     "ename": "AttributeError",
     "evalue": "type object 'Grid' has no attribute 'shape'",
     "output_type": "error",
     "traceback": [
      "\u001b[1;31m---------------------------------------------------------------------------\u001b[0m",
      "\u001b[1;31mAttributeError\u001b[0m                            Traceback (most recent call last)",
      "Input \u001b[1;32mIn [29]\u001b[0m, in \u001b[0;36m<cell line: 2>\u001b[1;34m()\u001b[0m\n\u001b[0;32m      1\u001b[0m \u001b[38;5;28;01mimport\u001b[39;00m \u001b[38;5;21;01mpreprocessing\u001b[39;00m \u001b[38;5;28;01mas\u001b[39;00m \u001b[38;5;21;01mpp\u001b[39;00m\n\u001b[1;32m----> 2\u001b[0m \u001b[43mpp\u001b[49m\u001b[38;5;241;43m.\u001b[39;49m\u001b[43mGrid\u001b[49m\u001b[38;5;241;43m.\u001b[39;49m\u001b[43mshape\u001b[49m\n",
      "\u001b[1;31mAttributeError\u001b[0m: type object 'Grid' has no attribute 'shape'"
     ]
    }
   ],
   "source": []
  },
  {
   "cell_type": "code",
   "execution_count": null,
   "id": "879bb80d",
   "metadata": {},
   "outputs": [],
   "source": []
  }
 ],
 "metadata": {
  "kernelspec": {
   "display_name": "Python 3 (ipykernel)",
   "language": "python",
   "name": "python3"
  },
  "language_info": {
   "codemirror_mode": {
    "name": "ipython",
    "version": 3
   },
   "file_extension": ".py",
   "mimetype": "text/x-python",
   "name": "python",
   "nbconvert_exporter": "python",
   "pygments_lexer": "ipython3",
   "version": "3.9.7"
  }
 },
 "nbformat": 4,
 "nbformat_minor": 5
}
